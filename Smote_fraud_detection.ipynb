{
  "nbformat": 4,
  "nbformat_minor": 0,
  "metadata": {
    "colab": {
      "provenance": [],
      "gpuType": "T4",
      "authorship_tag": "ABX9TyOA51hC8PYnbr2MK+sXJONg",
      "include_colab_link": true
    },
    "kernelspec": {
      "name": "python3",
      "display_name": "Python 3"
    },
    "language_info": {
      "name": "python"
    },
    "accelerator": "GPU"
  },
  "cells": [
    {
      "cell_type": "markdown",
      "metadata": {
        "id": "view-in-github",
        "colab_type": "text"
      },
      "source": [
        "<a href=\"https://colab.research.google.com/github/lucapernice/Machine-Learning-Challenge/blob/main/Smote_fraud_detection.ipynb\" target=\"_parent\"><img src=\"https://colab.research.google.com/assets/colab-badge.svg\" alt=\"Open In Colab\"/></a>"
      ]
    },
    {
      "cell_type": "markdown",
      "source": [
        "# SMOTE ALGORITHM\n",
        "## Implementation test"
      ],
      "metadata": {
        "id": "NE8a0QfEGBzJ"
      }
    },
    {
      "cell_type": "markdown",
      "source": [
        "Look at https://imbalanced-learn.org/stable/ for info"
      ],
      "metadata": {
        "id": "KHCLV8NQGjlj"
      }
    },
    {
      "cell_type": "code",
      "source": [
        "!pip install imbalanced_learn"
      ],
      "metadata": {
        "colab": {
          "base_uri": "https://localhost:8080/"
        },
        "id": "oOwKpZKgGTjg",
        "outputId": "e878ce8c-b395-4c35-ca5a-695527010a47"
      },
      "execution_count": null,
      "outputs": [
        {
          "output_type": "stream",
          "name": "stdout",
          "text": [
            "Requirement already satisfied: imbalanced_learn in /usr/local/lib/python3.10/dist-packages (0.10.1)\n",
            "Requirement already satisfied: numpy>=1.17.3 in /usr/local/lib/python3.10/dist-packages (from imbalanced_learn) (1.22.4)\n",
            "Requirement already satisfied: scipy>=1.3.2 in /usr/local/lib/python3.10/dist-packages (from imbalanced_learn) (1.10.1)\n",
            "Requirement already satisfied: scikit-learn>=1.0.2 in /usr/local/lib/python3.10/dist-packages (from imbalanced_learn) (1.2.2)\n",
            "Requirement already satisfied: joblib>=1.1.1 in /usr/local/lib/python3.10/dist-packages (from imbalanced_learn) (1.2.0)\n",
            "Requirement already satisfied: threadpoolctl>=2.0.0 in /usr/local/lib/python3.10/dist-packages (from imbalanced_learn) (3.1.0)\n"
          ]
        }
      ]
    },
    {
      "cell_type": "markdown",
      "source": [
        "Import all the libraries\n"
      ],
      "metadata": {
        "id": "mlS5dNOzH2gc"
      }
    },
    {
      "cell_type": "code",
      "source": [
        "import imblearn\n",
        "from imblearn.over_sampling import SMOTE\n",
        "import numpy as np\n",
        "import matplotlib.pyplot as plt\n",
        "import os\n",
        "import pandas as pd\n",
        "\n",
        "\n"
      ],
      "metadata": {
        "id": "W5bdnv3QHGgd"
      },
      "execution_count": null,
      "outputs": []
    },
    {
      "cell_type": "markdown",
      "source": [
        "### DATA\n"
      ],
      "metadata": {
        "id": "wA-nhhlD6-WJ"
      }
    },
    {
      "cell_type": "markdown",
      "source": [
        "Obtain the data file"
      ],
      "metadata": {
        "id": "lIcsTKjaJAlI"
      }
    },
    {
      "cell_type": "code",
      "source": [
        "FFILE = './creditcard.csv'\n",
        "if os.path.isfile(FFILE):\n",
        "    print(\"File already exists\")\n",
        "    if os.access(FFILE, os.R_OK):\n",
        "        print (\"File is readable\")\n",
        "    else:\n",
        "        print (\"File is not readable, removing it and downloading again\")\n",
        "        !rm FFILE\n",
        "        !wget \"https://datahub.io/machine-learning/creditcard/r/creditcard.csv\"\n",
        "else:\n",
        "    print(\"Either the file is missing or not readable, download it\")\n",
        "    !wget \"https://datahub.io/machine-learning/creditcard/r/creditcard.csv\""
      ],
      "metadata": {
        "colab": {
          "base_uri": "https://localhost:8080/"
        },
        "id": "_0Lki7vUJGSb",
        "outputId": "661f87a9-320b-4b1f-f878-53a0aa6b7b8c"
      },
      "execution_count": null,
      "outputs": [
        {
          "output_type": "stream",
          "name": "stdout",
          "text": [
            "Either the file is missing or not readable, download it\n",
            "--2023-07-03 07:31:07--  https://datahub.io/machine-learning/creditcard/r/creditcard.csv\n",
            "Resolving datahub.io (datahub.io)... 172.67.157.38, 104.21.40.221, 2606:4700:3033::6815:28dd, ...\n",
            "Connecting to datahub.io (datahub.io)|172.67.157.38|:443... connected.\n",
            "HTTP request sent, awaiting response... 302 Found\n",
            "Location: https://pkgstore.datahub.io/machine-learning/creditcard/creditcard_csv/data/ebdc64b6837b3026238f3fcad3402337/creditcard_csv.csv [following]\n",
            "--2023-07-03 07:31:08--  https://pkgstore.datahub.io/machine-learning/creditcard/creditcard_csv/data/ebdc64b6837b3026238f3fcad3402337/creditcard_csv.csv\n",
            "Resolving pkgstore.datahub.io (pkgstore.datahub.io)... 172.67.157.38, 104.21.40.221, 2606:4700:3030::ac43:9d26, ...\n",
            "Connecting to pkgstore.datahub.io (pkgstore.datahub.io)|172.67.157.38|:443... connected.\n",
            "HTTP request sent, awaiting response... 200 OK\n",
            "Length: 151114991 (144M) [text/csv]\n",
            "Saving to: ‘creditcard.csv’\n",
            "\n",
            "creditcard.csv      100%[===================>] 144.11M  62.3MB/s    in 2.3s    \n",
            "\n",
            "2023-07-03 07:31:11 (62.3 MB/s) - ‘creditcard.csv’ saved [151114991/151114991]\n",
            "\n"
          ]
        }
      ]
    },
    {
      "cell_type": "code",
      "source": [
        "data = pd.read_csv('creditcard.csv')\n",
        "\n",
        "data.head()\n",
        "\n",
        "\n"
      ],
      "metadata": {
        "colab": {
          "base_uri": "https://localhost:8080/",
          "height": 247
        },
        "id": "Rklhos65JdPA",
        "outputId": "ff35fb3e-6077-46aa-8847-fa9cb9f977b5"
      },
      "execution_count": null,
      "outputs": [
        {
          "output_type": "execute_result",
          "data": {
            "text/plain": [
              "   Time        V1        V2        V3        V4        V5        V6        V7  \\\n",
              "0   0.0 -1.359807 -0.072781  2.536347  1.378155 -0.338321  0.462388  0.239599   \n",
              "1   0.0  1.191857  0.266151  0.166480  0.448154  0.060018 -0.082361 -0.078803   \n",
              "2   1.0 -1.358354 -1.340163  1.773209  0.379780 -0.503198  1.800499  0.791461   \n",
              "3   1.0 -0.966272 -0.185226  1.792993 -0.863291 -0.010309  1.247203  0.237609   \n",
              "4   2.0 -1.158233  0.877737  1.548718  0.403034 -0.407193  0.095921  0.592941   \n",
              "\n",
              "         V8        V9  ...       V21       V22       V23       V24       V25  \\\n",
              "0  0.098698  0.363787  ... -0.018307  0.277838 -0.110474  0.066928  0.128539   \n",
              "1  0.085102 -0.255425  ... -0.225775 -0.638672  0.101288 -0.339846  0.167170   \n",
              "2  0.247676 -1.514654  ...  0.247998  0.771679  0.909412 -0.689281 -0.327642   \n",
              "3  0.377436 -1.387024  ... -0.108300  0.005274 -0.190321 -1.175575  0.647376   \n",
              "4 -0.270533  0.817739  ... -0.009431  0.798278 -0.137458  0.141267 -0.206010   \n",
              "\n",
              "        V26       V27       V28  Amount  Class  \n",
              "0 -0.189115  0.133558 -0.021053  149.62    '0'  \n",
              "1  0.125895 -0.008983  0.014724    2.69    '0'  \n",
              "2 -0.139097 -0.055353 -0.059752  378.66    '0'  \n",
              "3 -0.221929  0.062723  0.061458  123.50    '0'  \n",
              "4  0.502292  0.219422  0.215153   69.99    '0'  \n",
              "\n",
              "[5 rows x 31 columns]"
            ],
            "text/html": [
              "\n",
              "  <div id=\"df-467db7ec-ed07-42dd-a7f4-6f743585e1d7\">\n",
              "    <div class=\"colab-df-container\">\n",
              "      <div>\n",
              "<style scoped>\n",
              "    .dataframe tbody tr th:only-of-type {\n",
              "        vertical-align: middle;\n",
              "    }\n",
              "\n",
              "    .dataframe tbody tr th {\n",
              "        vertical-align: top;\n",
              "    }\n",
              "\n",
              "    .dataframe thead th {\n",
              "        text-align: right;\n",
              "    }\n",
              "</style>\n",
              "<table border=\"1\" class=\"dataframe\">\n",
              "  <thead>\n",
              "    <tr style=\"text-align: right;\">\n",
              "      <th></th>\n",
              "      <th>Time</th>\n",
              "      <th>V1</th>\n",
              "      <th>V2</th>\n",
              "      <th>V3</th>\n",
              "      <th>V4</th>\n",
              "      <th>V5</th>\n",
              "      <th>V6</th>\n",
              "      <th>V7</th>\n",
              "      <th>V8</th>\n",
              "      <th>V9</th>\n",
              "      <th>...</th>\n",
              "      <th>V21</th>\n",
              "      <th>V22</th>\n",
              "      <th>V23</th>\n",
              "      <th>V24</th>\n",
              "      <th>V25</th>\n",
              "      <th>V26</th>\n",
              "      <th>V27</th>\n",
              "      <th>V28</th>\n",
              "      <th>Amount</th>\n",
              "      <th>Class</th>\n",
              "    </tr>\n",
              "  </thead>\n",
              "  <tbody>\n",
              "    <tr>\n",
              "      <th>0</th>\n",
              "      <td>0.0</td>\n",
              "      <td>-1.359807</td>\n",
              "      <td>-0.072781</td>\n",
              "      <td>2.536347</td>\n",
              "      <td>1.378155</td>\n",
              "      <td>-0.338321</td>\n",
              "      <td>0.462388</td>\n",
              "      <td>0.239599</td>\n",
              "      <td>0.098698</td>\n",
              "      <td>0.363787</td>\n",
              "      <td>...</td>\n",
              "      <td>-0.018307</td>\n",
              "      <td>0.277838</td>\n",
              "      <td>-0.110474</td>\n",
              "      <td>0.066928</td>\n",
              "      <td>0.128539</td>\n",
              "      <td>-0.189115</td>\n",
              "      <td>0.133558</td>\n",
              "      <td>-0.021053</td>\n",
              "      <td>149.62</td>\n",
              "      <td>'0'</td>\n",
              "    </tr>\n",
              "    <tr>\n",
              "      <th>1</th>\n",
              "      <td>0.0</td>\n",
              "      <td>1.191857</td>\n",
              "      <td>0.266151</td>\n",
              "      <td>0.166480</td>\n",
              "      <td>0.448154</td>\n",
              "      <td>0.060018</td>\n",
              "      <td>-0.082361</td>\n",
              "      <td>-0.078803</td>\n",
              "      <td>0.085102</td>\n",
              "      <td>-0.255425</td>\n",
              "      <td>...</td>\n",
              "      <td>-0.225775</td>\n",
              "      <td>-0.638672</td>\n",
              "      <td>0.101288</td>\n",
              "      <td>-0.339846</td>\n",
              "      <td>0.167170</td>\n",
              "      <td>0.125895</td>\n",
              "      <td>-0.008983</td>\n",
              "      <td>0.014724</td>\n",
              "      <td>2.69</td>\n",
              "      <td>'0'</td>\n",
              "    </tr>\n",
              "    <tr>\n",
              "      <th>2</th>\n",
              "      <td>1.0</td>\n",
              "      <td>-1.358354</td>\n",
              "      <td>-1.340163</td>\n",
              "      <td>1.773209</td>\n",
              "      <td>0.379780</td>\n",
              "      <td>-0.503198</td>\n",
              "      <td>1.800499</td>\n",
              "      <td>0.791461</td>\n",
              "      <td>0.247676</td>\n",
              "      <td>-1.514654</td>\n",
              "      <td>...</td>\n",
              "      <td>0.247998</td>\n",
              "      <td>0.771679</td>\n",
              "      <td>0.909412</td>\n",
              "      <td>-0.689281</td>\n",
              "      <td>-0.327642</td>\n",
              "      <td>-0.139097</td>\n",
              "      <td>-0.055353</td>\n",
              "      <td>-0.059752</td>\n",
              "      <td>378.66</td>\n",
              "      <td>'0'</td>\n",
              "    </tr>\n",
              "    <tr>\n",
              "      <th>3</th>\n",
              "      <td>1.0</td>\n",
              "      <td>-0.966272</td>\n",
              "      <td>-0.185226</td>\n",
              "      <td>1.792993</td>\n",
              "      <td>-0.863291</td>\n",
              "      <td>-0.010309</td>\n",
              "      <td>1.247203</td>\n",
              "      <td>0.237609</td>\n",
              "      <td>0.377436</td>\n",
              "      <td>-1.387024</td>\n",
              "      <td>...</td>\n",
              "      <td>-0.108300</td>\n",
              "      <td>0.005274</td>\n",
              "      <td>-0.190321</td>\n",
              "      <td>-1.175575</td>\n",
              "      <td>0.647376</td>\n",
              "      <td>-0.221929</td>\n",
              "      <td>0.062723</td>\n",
              "      <td>0.061458</td>\n",
              "      <td>123.50</td>\n",
              "      <td>'0'</td>\n",
              "    </tr>\n",
              "    <tr>\n",
              "      <th>4</th>\n",
              "      <td>2.0</td>\n",
              "      <td>-1.158233</td>\n",
              "      <td>0.877737</td>\n",
              "      <td>1.548718</td>\n",
              "      <td>0.403034</td>\n",
              "      <td>-0.407193</td>\n",
              "      <td>0.095921</td>\n",
              "      <td>0.592941</td>\n",
              "      <td>-0.270533</td>\n",
              "      <td>0.817739</td>\n",
              "      <td>...</td>\n",
              "      <td>-0.009431</td>\n",
              "      <td>0.798278</td>\n",
              "      <td>-0.137458</td>\n",
              "      <td>0.141267</td>\n",
              "      <td>-0.206010</td>\n",
              "      <td>0.502292</td>\n",
              "      <td>0.219422</td>\n",
              "      <td>0.215153</td>\n",
              "      <td>69.99</td>\n",
              "      <td>'0'</td>\n",
              "    </tr>\n",
              "  </tbody>\n",
              "</table>\n",
              "<p>5 rows × 31 columns</p>\n",
              "</div>\n",
              "      <button class=\"colab-df-convert\" onclick=\"convertToInteractive('df-467db7ec-ed07-42dd-a7f4-6f743585e1d7')\"\n",
              "              title=\"Convert this dataframe to an interactive table.\"\n",
              "              style=\"display:none;\">\n",
              "        \n",
              "  <svg xmlns=\"http://www.w3.org/2000/svg\" height=\"24px\"viewBox=\"0 0 24 24\"\n",
              "       width=\"24px\">\n",
              "    <path d=\"M0 0h24v24H0V0z\" fill=\"none\"/>\n",
              "    <path d=\"M18.56 5.44l.94 2.06.94-2.06 2.06-.94-2.06-.94-.94-2.06-.94 2.06-2.06.94zm-11 1L8.5 8.5l.94-2.06 2.06-.94-2.06-.94L8.5 2.5l-.94 2.06-2.06.94zm10 10l.94 2.06.94-2.06 2.06-.94-2.06-.94-.94-2.06-.94 2.06-2.06.94z\"/><path d=\"M17.41 7.96l-1.37-1.37c-.4-.4-.92-.59-1.43-.59-.52 0-1.04.2-1.43.59L10.3 9.45l-7.72 7.72c-.78.78-.78 2.05 0 2.83L4 21.41c.39.39.9.59 1.41.59.51 0 1.02-.2 1.41-.59l7.78-7.78 2.81-2.81c.8-.78.8-2.07 0-2.86zM5.41 20L4 18.59l7.72-7.72 1.47 1.35L5.41 20z\"/>\n",
              "  </svg>\n",
              "      </button>\n",
              "      \n",
              "  <style>\n",
              "    .colab-df-container {\n",
              "      display:flex;\n",
              "      flex-wrap:wrap;\n",
              "      gap: 12px;\n",
              "    }\n",
              "\n",
              "    .colab-df-convert {\n",
              "      background-color: #E8F0FE;\n",
              "      border: none;\n",
              "      border-radius: 50%;\n",
              "      cursor: pointer;\n",
              "      display: none;\n",
              "      fill: #1967D2;\n",
              "      height: 32px;\n",
              "      padding: 0 0 0 0;\n",
              "      width: 32px;\n",
              "    }\n",
              "\n",
              "    .colab-df-convert:hover {\n",
              "      background-color: #E2EBFA;\n",
              "      box-shadow: 0px 1px 2px rgba(60, 64, 67, 0.3), 0px 1px 3px 1px rgba(60, 64, 67, 0.15);\n",
              "      fill: #174EA6;\n",
              "    }\n",
              "\n",
              "    [theme=dark] .colab-df-convert {\n",
              "      background-color: #3B4455;\n",
              "      fill: #D2E3FC;\n",
              "    }\n",
              "\n",
              "    [theme=dark] .colab-df-convert:hover {\n",
              "      background-color: #434B5C;\n",
              "      box-shadow: 0px 1px 3px 1px rgba(0, 0, 0, 0.15);\n",
              "      filter: drop-shadow(0px 1px 2px rgba(0, 0, 0, 0.3));\n",
              "      fill: #FFFFFF;\n",
              "    }\n",
              "  </style>\n",
              "\n",
              "      <script>\n",
              "        const buttonEl =\n",
              "          document.querySelector('#df-467db7ec-ed07-42dd-a7f4-6f743585e1d7 button.colab-df-convert');\n",
              "        buttonEl.style.display =\n",
              "          google.colab.kernel.accessAllowed ? 'block' : 'none';\n",
              "\n",
              "        async function convertToInteractive(key) {\n",
              "          const element = document.querySelector('#df-467db7ec-ed07-42dd-a7f4-6f743585e1d7');\n",
              "          const dataTable =\n",
              "            await google.colab.kernel.invokeFunction('convertToInteractive',\n",
              "                                                     [key], {});\n",
              "          if (!dataTable) return;\n",
              "\n",
              "          const docLinkHtml = 'Like what you see? Visit the ' +\n",
              "            '<a target=\"_blank\" href=https://colab.research.google.com/notebooks/data_table.ipynb>data table notebook</a>'\n",
              "            + ' to learn more about interactive tables.';\n",
              "          element.innerHTML = '';\n",
              "          dataTable['output_type'] = 'display_data';\n",
              "          await google.colab.output.renderOutput(dataTable, element);\n",
              "          const docLink = document.createElement('div');\n",
              "          docLink.innerHTML = docLinkHtml;\n",
              "          element.appendChild(docLink);\n",
              "        }\n",
              "      </script>\n",
              "    </div>\n",
              "  </div>\n",
              "  "
            ]
          },
          "metadata": {},
          "execution_count": 3
        },
        {
          "output_type": "stream",
          "name": "stdout",
          "text": [
            "Warning: Total number of columns (31) exceeds max_columns (20) limiting to first (20) columns.\n"
          ]
        }
      ]
    },
    {
      "cell_type": "code",
      "source": [
        "data.shape"
      ],
      "metadata": {
        "colab": {
          "base_uri": "https://localhost:8080/"
        },
        "id": "JhhbvVP2MsrV",
        "outputId": "d51556f0-429f-4636-94eb-22e7458104b9"
      },
      "execution_count": null,
      "outputs": [
        {
          "output_type": "execute_result",
          "data": {
            "text/plain": [
              "(284807, 31)"
            ]
          },
          "metadata": {},
          "execution_count": 5
        }
      ]
    },
    {
      "cell_type": "code",
      "source": [
        "data['Class']"
      ],
      "metadata": {
        "colab": {
          "base_uri": "https://localhost:8080/"
        },
        "id": "YmPb0lpVFnEC",
        "outputId": "3f868d54-84ca-4fbd-9015-da747a11b6bc"
      },
      "execution_count": null,
      "outputs": [
        {
          "output_type": "execute_result",
          "data": {
            "text/plain": [
              "0         '0'\n",
              "1         '0'\n",
              "2         '0'\n",
              "3         '0'\n",
              "4         '0'\n",
              "         ... \n",
              "284802    '0'\n",
              "284803    '0'\n",
              "284804    '0'\n",
              "284805    '0'\n",
              "284806    '0'\n",
              "Name: Class, Length: 284807, dtype: object"
            ]
          },
          "metadata": {},
          "execution_count": 6
        }
      ]
    },
    {
      "cell_type": "code",
      "source": [
        "data.isnull().values.any()"
      ],
      "metadata": {
        "colab": {
          "base_uri": "https://localhost:8080/"
        },
        "id": "5w5GYQcg8V5j",
        "outputId": "3f09b765-4f78-4d6e-a0c9-49fe32f8ef5f"
      },
      "execution_count": null,
      "outputs": [
        {
          "output_type": "execute_result",
          "data": {
            "text/plain": [
              "False"
            ]
          },
          "metadata": {},
          "execution_count": 7
        }
      ]
    },
    {
      "cell_type": "markdown",
      "source": [
        "Occurence of '0' (not fraud) and '1' (fraud) classes"
      ],
      "metadata": {
        "id": "Pn1LD-qcPD2A"
      }
    },
    {
      "cell_type": "code",
      "source": [
        "\n",
        "data['Class'].value_counts()"
      ],
      "metadata": {
        "colab": {
          "base_uri": "https://localhost:8080/"
        },
        "id": "KdXEQvdCLZoH",
        "outputId": "40f3e61d-5618-42ab-a652-69edac83d524"
      },
      "execution_count": null,
      "outputs": [
        {
          "output_type": "execute_result",
          "data": {
            "text/plain": [
              "'0'    284315\n",
              "'1'       492\n",
              "Name: Class, dtype: int64"
            ]
          },
          "metadata": {},
          "execution_count": 8
        }
      ]
    },
    {
      "cell_type": "code",
      "source": [
        "two_dim_data = data.loc[:,['V1','V2','Class']]\n",
        "\n"
      ],
      "metadata": {
        "id": "NPpzo1f2V_S_"
      },
      "execution_count": null,
      "outputs": []
    },
    {
      "cell_type": "code",
      "source": [
        "mask = two_dim_data['Class']!=two_dim_data['Class'][1]\n",
        "fraud = two_dim_data[mask][:]\n",
        "mask = two_dim_data['Class']==two_dim_data['Class'][1]\n",
        "not_fraud = two_dim_data[mask][:]\n"
      ],
      "metadata": {
        "id": "Z1MDQP7kX_qy"
      },
      "execution_count": null,
      "outputs": []
    },
    {
      "cell_type": "code",
      "source": [
        "plt.figure(figsize=(22,8))\n",
        "plt.scatter(not_fraud.loc[:,'V1'],not_fraud.loc[:,'V2'],linewidths = 0.0001, label = 'not fraud')\n",
        "plt.scatter(fraud.loc[:,'V1'],fraud.loc[:,'V2'],linewidths = 0.0001, label = 'fraud')\n",
        "plt.legend()\n",
        "plt.title('First two principal components')\n",
        ";\n"
      ],
      "metadata": {
        "colab": {
          "base_uri": "https://localhost:8080/",
          "height": 717
        },
        "id": "9_FjbW8jZGKL",
        "outputId": "c0fe265b-71d2-48f6-ef13-8409414a56ee"
      },
      "execution_count": null,
      "outputs": [
        {
          "output_type": "execute_result",
          "data": {
            "text/plain": [
              "''"
            ],
            "application/vnd.google.colaboratory.intrinsic+json": {
              "type": "string"
            }
          },
          "metadata": {},
          "execution_count": 11
        },
        {
          "output_type": "display_data",
          "data": {
            "text/plain": [
              "<Figure size 2200x800 with 1 Axes>"
            ],
            "image/png": "[encoded data removed]"
          },
          "metadata": {}
        }
      ]
    },
    {
      "cell_type": "markdown",
      "source": [
        "### NEURAL NETWORK\n"
      ],
      "metadata": {
        "id": "JDbnBcgf7DIH"
      }
    },
    {
      "cell_type": "code",
      "source": [
        "import torch\n",
        "import torch.nn as nn # basic building blocks for graphs\n",
        "import torch.nn.functional as F\n",
        "from torch.utils.data import Dataset, DataLoader\n",
        "from time import time"
      ],
      "metadata": {
        "id": "5nGbzx1F9axG"
      },
      "execution_count": null,
      "outputs": []
    },
    {
      "cell_type": "markdown",
      "source": [
        "Custom Dataset for Pytorch"
      ],
      "metadata": {
        "id": "roLUE5yW9BLu"
      }
    },
    {
      "cell_type": "code",
      "source": [
        "class MyDataset(Dataset):\n",
        "\n",
        "  def __init__(self, file_name):\n",
        "    data = pd.read_csv(file_name)\n",
        "    data['Class'].replace(data.iloc[0,-1],0,inplace = True)\n",
        "    data['Class'].replace(data.iloc[541,-1],1,inplace = True)\n",
        "\n",
        "\n",
        "    x = data.iloc[0:200000,0 : -1].values\n",
        "    y = data.iloc[0:200000,-1].values\n",
        "\n",
        "\n",
        "\n",
        "    self.x_train = torch.tensor(x,dtype = torch.float32)\n",
        "    self.y_train = torch.tensor(y,dtype = torch.float32)\n",
        "\n",
        "\n",
        "  def __len__(self):\n",
        "    return len(self.y_train)\n",
        "\n",
        "  def __getitem__(self, idx):\n",
        "    return self.x_train[idx],self.y_train[idx]\n",
        "\n",
        "\n"
      ],
      "metadata": {
        "id": "ULHjgzuX6fgJ"
      },
      "execution_count": null,
      "outputs": []
    },
    {
      "cell_type": "code",
      "source": [
        "BATCH_SIZE = 15"
      ],
      "metadata": {
        "id": "KSeVDSfbCoV5"
      },
      "execution_count": null,
      "outputs": []
    },
    {
      "cell_type": "code",
      "source": [
        "train = MyDataset('creditcard.csv')\n",
        "train_loader=DataLoader(train,batch_size=BATCH_SIZE,shuffle=False)"
      ],
      "metadata": {
        "id": "d8uH4Zf8CTbL"
      },
      "execution_count": null,
      "outputs": []
    },
    {
      "cell_type": "code",
      "source": [
        "for values, labels in train_loader:\n",
        "    print(\"data batch dimensions:\", values.shape)\n",
        "    print(\"data label dimensions:\", values.shape)\n",
        "    break"
      ],
      "metadata": {
        "colab": {
          "base_uri": "https://localhost:8080/"
        },
        "id": "ZCm5uuGjJqfR",
        "outputId": "b8270b82-e2a4-47ed-ce88-335b750ec349"
      },
      "execution_count": null,
      "outputs": [
        {
          "output_type": "stream",
          "name": "stdout",
          "text": [
            "data batch dimensions: torch.Size([15, 30])\n",
            "data label dimensions: torch.Size([15, 30])\n"
          ]
        }
      ]
    },
    {
      "cell_type": "code",
      "source": [
        "class MyModel(nn.Module):\n",
        "    def __init__(self):\n",
        "        super(MyModel, self).__init__()\n",
        "\n",
        "\n",
        "        self.l1 = nn.Linear(30, 128)\n",
        "        self.l2 = nn.Linear(128, 128)\n",
        "        self.l3 = nn.Linear(128,1)\n",
        "        self.sigmoid = nn.Sigmoid()\n",
        "\n",
        "\n",
        "    def forward(self, x):\n",
        "\n",
        "        x = self.l1(x)\n",
        "\n",
        "        x = F.relu(x)\n",
        "\n",
        "\n",
        "        x = self.l2(x)\n",
        "\n",
        "        x = F.relu(x)\n",
        "\n",
        "        logits = self.l3(x).squeeze()\n",
        "\n",
        "\n",
        "\n",
        "\n",
        "\n",
        "\n",
        "\n",
        "\n",
        "        out = logits\n",
        "\n",
        "\n",
        "        return out"
      ],
      "metadata": {
        "id": "b1p0Vp21IlSa"
      },
      "execution_count": null,
      "outputs": []
    },
    {
      "cell_type": "markdown",
      "source": [
        "Single batch test"
      ],
      "metadata": {
        "id": "_rZ78lv_KHt-"
      }
    },
    {
      "cell_type": "code",
      "source": [
        "model = MyModel()\n",
        "out = model(values)\n",
        "print(f\"Output shape is: {out.shape}  i.e.: batch_size \")"
      ],
      "metadata": {
        "colab": {
          "base_uri": "https://localhost:8080/"
        },
        "id": "pwI5nvr1J7Z3",
        "outputId": "ded25b72-752b-4f94-9c7f-3ef1ef305453"
      },
      "execution_count": null,
      "outputs": [
        {
          "output_type": "stream",
          "name": "stdout",
          "text": [
            "Output shape is: torch.Size([15])  i.e.: batch_size \n"
          ]
        }
      ]
    },
    {
      "cell_type": "code",
      "source": [
        "# Device selection\n",
        "device = torch.device(\"cuda\" if torch.cuda.is_available() else \"cpu\")\n",
        "\n",
        "\n",
        "# Re-instantiate the model to reset the weights/gradients.\n",
        "# Weights are initialized by default according to Kaiming He et al. (2015) | https://arxiv.org/abs/1502.01852\n",
        "model = MyModel()\n",
        "model = model.to(device)  # Move the model to the selected device\n",
        "\n",
        "print(f\"Using device: {device}\")"
      ],
      "metadata": {
        "colab": {
          "base_uri": "https://localhost:8080/"
        },
        "id": "UTx1-yMAKpep",
        "outputId": "da6a540b-3b36-4e6f-86cb-c2de54dece6d"
      },
      "execution_count": null,
      "outputs": [
        {
          "output_type": "stream",
          "name": "stdout",
          "text": [
            "Using device: cuda\n"
          ]
        }
      ]
    },
    {
      "cell_type": "code",
      "source": [
        "num_epochs = 20\n",
        "learning_rate = 0.000001\n",
        "\n",
        "criterion = nn.BCEWithLogitsLoss() # loss function\n",
        "optimizer = torch.optim.Adam(model.parameters(), lr=learning_rate)"
      ],
      "metadata": {
        "id": "YP2UjozULBHb"
      },
      "execution_count": null,
      "outputs": []
    },
    {
      "cell_type": "code",
      "execution_count": null,
      "metadata": {
        "id": "e_EMhOqczfLZ",
        "colab": {
          "base_uri": "https://localhost:8080/"
        },
        "outputId": "8f77e442-9551-4613-fb69-70c30bc6c783"
      },
      "outputs": [
        {
          "output_type": "stream",
          "name": "stdout",
          "text": [
            "Epoch: 1 | Loss: 0.0259  Time: 24.73\n",
            "Epoch: 2 | Loss: 0.0269  Time: 20.57\n",
            "Epoch: 3 | Loss: 0.0265  Time: 20.60\n",
            "Epoch: 4 | Loss: 0.0263  Time: 21.75\n",
            "Epoch: 5 | Loss: 0.0263  Time: 20.70\n",
            "Epoch: 6 | Loss: 0.0260  Time: 20.34\n",
            "Epoch: 7 | Loss: 0.0258  Time: 20.89\n",
            "Epoch: 8 | Loss: 0.0256  Time: 20.71\n",
            "Epoch: 9 | Loss: 0.0253  Time: 20.36\n",
            "Epoch: 10 | Loss: 0.0250  Time: 20.83\n",
            "Epoch: 11 | Loss: 0.0249  Time: 20.76\n",
            "Epoch: 12 | Loss: 0.0246  Time: 20.80\n",
            "Epoch: 13 | Loss: 0.0237  Time: 20.47\n",
            "Epoch: 14 | Loss: 0.0240  Time: 20.85\n",
            "Epoch: 15 | Loss: 0.0236  Time: 20.55\n",
            "Epoch: 16 | Loss: 0.0233  Time: 20.02\n",
            "Epoch: 17 | Loss: 0.0230  Time: 20.55\n",
            "Epoch: 18 | Loss: 0.0227  Time: 20.87\n",
            "Epoch: 19 | Loss: 0.0226  Time: 20.99\n",
            "Epoch: 20 | Loss: 0.0224  Time: 20.67\n"
          ]
        }
      ],
      "source": [
        "for epoch in range(num_epochs):\n",
        "    train_running_loss = 0.0\n",
        "    train_acc = 0.0\n",
        "\n",
        "    # Set the model to training mode: relevant for dropout, batchnorm, etc.\n",
        "    model = model.train()\n",
        "    start = time()\n",
        "    ## training step\n",
        "    for i, (images, labels) in enumerate(train_loader):\n",
        "        #labels = labels.type(torch.LongTensor)\n",
        "\n",
        "\n",
        "        images = images.to(device)\n",
        "        labels = labels.to(device)\n",
        "\n",
        "\n",
        "        ## forward + backprop + loss\n",
        "        logits = model(images)\n",
        "\n",
        "        loss = criterion(logits, labels)\n",
        "\n",
        "        # Reset the gradients to zero: otherwise they accumulate!\n",
        "        optimizer.zero_grad()\n",
        "\n",
        "        # Backpropagation\n",
        "        loss.backward()\n",
        "\n",
        "        ## update model params\n",
        "        optimizer.step()\n",
        "\n",
        "        train_running_loss += loss.item()\n",
        "\n",
        "\n",
        "    model.eval()\n",
        "    print(f\"Epoch: {epoch+1} | Loss: {train_running_loss / i:.4f}  Time: {time()-start:.2f}\")"
      ]
    },
    {
      "cell_type": "markdown",
      "source": [
        "test loader"
      ],
      "metadata": {
        "id": "ba8Tz2e1Y7h2"
      }
    },
    {
      "cell_type": "code",
      "source": [
        "class Testset(Dataset):\n",
        "\n",
        "  def __init__(self, file_name):\n",
        "    data = pd.read_csv(file_name)\n",
        "    data['Class'].replace(data.iloc[0,-1],0,inplace = True)\n",
        "    data['Class'].replace(data.iloc[541,-1],1,inplace = True)\n",
        "\n",
        "\n",
        "    x = data.iloc[200001:,0:-1].values\n",
        "    y = data.iloc[200001:,-1].values\n",
        "\n",
        "    self.x_test = torch.tensor(x,dtype = torch.float32)\n",
        "    self.y_test = torch.tensor(y,dtype = torch.float32)\n",
        "\n",
        "  def __len__(self):\n",
        "    return len(self.y_test)\n",
        "\n",
        "  def __getitem__(self, idx):\n",
        "    return self.x_test[idx],self.y_test[idx]"
      ],
      "metadata": {
        "id": "rjTy5b1TMN0U"
      },
      "execution_count": null,
      "outputs": []
    },
    {
      "cell_type": "code",
      "source": [
        "test = Testset('creditcard.csv')\n",
        "test_loader=DataLoader(test,batch_size=BATCH_SIZE,shuffle=False)"
      ],
      "metadata": {
        "id": "HGTuytgTZelk"
      },
      "execution_count": null,
      "outputs": []
    },
    {
      "cell_type": "code",
      "source": [
        "m = nn.Sigmoid()"
      ],
      "metadata": {
        "id": "1AThQz3ttVhe"
      },
      "execution_count": null,
      "outputs": []
    },
    {
      "cell_type": "code",
      "source": [
        "predictions = []\n",
        "targets = []\n",
        "for j, (test_images,test_labels) in enumerate(test_loader):\n",
        "        #labels = labels.type(torch.LongTensor)\n",
        "\n",
        "\n",
        "        test_images = test_images.to(device)\n",
        "        test_labels = test_labels.to(device)\n",
        "\n",
        "\n",
        "        ## forward + backprop + loss\n",
        "        res = model(test_images)\n",
        "        batch_pred = m(res)\n",
        "        batch_pred = torch.round(batch_pred)\n",
        "        predictions = predictions + list(batch_pred.cpu().detach().numpy())\n",
        "        targets = targets + list(test_labels.cpu().detach().numpy())\n",
        "\n",
        "\n"
      ],
      "metadata": {
        "id": "aA-VUHP_urt8"
      },
      "execution_count": null,
      "outputs": []
    },
    {
      "cell_type": "code",
      "source": [
        "from sklearn.metrics import ConfusionMatrixDisplay, classification_report\n"
      ],
      "metadata": {
        "id": "qkky_z9Uu3m4"
      },
      "execution_count": null,
      "outputs": []
    },
    {
      "cell_type": "code",
      "source": [
        "ConfusionMatrixDisplay.from_predictions(targets, predictions)"
      ],
      "metadata": {
        "colab": {
          "base_uri": "https://localhost:8080/"
        },
        "id": "IGx49qfHxYt3",
        "outputId": "4a86354c-445c-4b41-86b3-985067256404"
      },
      "execution_count": null,
      "outputs": [
        {
          "output_type": "execute_result",
          "data": {
            "text/plain": [
              "<sklearn.metrics._plot.confusion_matrix.ConfusionMatrixDisplay at 0x7f36ba0818d0>"
            ]
          },
          "metadata": {},
          "execution_count": 27
        },
        {
          "output_type": "display_data",
          "data": {
            "text/plain": [
              "<Figure size 640x480 with 2 Axes>"
            ],
            "image/png": "[encoded data removed]"
          },
          "metadata": {}
        }
      ]
    },
    {
      "cell_type": "code",
      "source": [
        "print(classification_report(targets, predictions))"
      ],
      "metadata": {
        "colab": {
          "base_uri": "https://localhost:8080/"
        },
        "id": "phKlkyu60f8t",
        "outputId": "74e4934d-0a9e-4fbc-e71c-0f64e869f255"
      },
      "execution_count": null,
      "outputs": [
        {
          "output_type": "stream",
          "name": "stdout",
          "text": [
            "              precision    recall  f1-score   support\n",
            "\n",
            "         0.0       1.00      1.00      1.00     84699\n",
            "         1.0       0.00      0.00      0.00       107\n",
            "\n",
            "    accuracy                           1.00     84806\n",
            "   macro avg       0.50      0.50      0.50     84806\n",
            "weighted avg       1.00      1.00      1.00     84806\n",
            "\n"
          ]
        },
        {
          "output_type": "stream",
          "name": "stderr",
          "text": [
            "/usr/local/lib/python3.10/dist-packages/sklearn/metrics/_classification.py:1344: UndefinedMetricWarning: Precision and F-score are ill-defined and being set to 0.0 in labels with no predicted samples. Use `zero_division` parameter to control this behavior.\n",
            "  _warn_prf(average, modifier, msg_start, len(result))\n",
            "/usr/local/lib/python3.10/dist-packages/sklearn/metrics/_classification.py:1344: UndefinedMetricWarning: Precision and F-score are ill-defined and being set to 0.0 in labels with no predicted samples. Use `zero_division` parameter to control this behavior.\n",
            "  _warn_prf(average, modifier, msg_start, len(result))\n",
            "/usr/local/lib/python3.10/dist-packages/sklearn/metrics/_classification.py:1344: UndefinedMetricWarning: Precision and F-score are ill-defined and being set to 0.0 in labels with no predicted samples. Use `zero_division` parameter to control this behavior.\n",
            "  _warn_prf(average, modifier, msg_start, len(result))\n"
          ]
        }
      ]
    },
    {
      "cell_type": "markdown",
      "source": [
        "### SMOTED DATASET"
      ],
      "metadata": {
        "id": "4yum0szbFgLK"
      }
    },
    {
      "cell_type": "code",
      "source": [
        "X_train = data.iloc[0:200000,0 : -1]\n",
        "y_train = data.iloc[0:200000,-1]\n",
        "\n",
        "smt = SMOTE()\n",
        "sm_x_train,sm_y_train = smt.fit_resample(X_train, y_train)\n",
        "\n",
        "\n",
        "\n",
        "\n"
      ],
      "metadata": {
        "id": "WLNmnhKqFjn9"
      },
      "execution_count": null,
      "outputs": []
    },
    {
      "cell_type": "code",
      "source": [
        "y_train.value_counts()"
      ],
      "metadata": {
        "id": "VESjbRjCNExp",
        "colab": {
          "base_uri": "https://localhost:8080/"
        },
        "outputId": "0af2755b-1029-4c8b-a41d-217bf1856191"
      },
      "execution_count": null,
      "outputs": [
        {
          "output_type": "execute_result",
          "data": {
            "text/plain": [
              "'0'    199615\n",
              "'1'       385\n",
              "Name: Class, dtype: int64"
            ]
          },
          "metadata": {},
          "execution_count": 30
        }
      ]
    },
    {
      "cell_type": "code",
      "source": [
        "sm_y_train.value_counts()\n"
      ],
      "metadata": {
        "id": "YpnLXwkgMKSJ",
        "colab": {
          "base_uri": "https://localhost:8080/"
        },
        "outputId": "81096d41-76ca-43ca-c5ad-8cf9866dbd90"
      },
      "execution_count": null,
      "outputs": [
        {
          "output_type": "execute_result",
          "data": {
            "text/plain": [
              "'0'    199615\n",
              "'1'    199615\n",
              "Name: Class, dtype: int64"
            ]
          },
          "metadata": {},
          "execution_count": 31
        }
      ]
    },
    {
      "cell_type": "markdown",
      "source": [
        "### NEURAL NETWORK WITH SMOTED DATA"
      ],
      "metadata": {
        "id": "rYP1m8fLNy8o"
      }
    },
    {
      "cell_type": "code",
      "source": [
        "class SMDataset(Dataset):\n",
        "\n",
        "  def __init__(self, file_name):\n",
        "    data = pd.read_csv(file_name)\n",
        "    data['Class'].replace(data.iloc[0,-1],0,inplace = True)\n",
        "    data['Class'].replace(data.iloc[541,-1],1,inplace = True)\n",
        "\n",
        "\n",
        "\n",
        "\n",
        "    x = data.iloc[0:200000,0 : -1].values\n",
        "    y = data.iloc[0:200000,-1].values\n",
        "\n",
        "    smt = SMOTE()\n",
        "    sm_x,sm_y = smt.fit_resample(x,y)\n",
        "\n",
        "\n",
        "\n",
        "    self.x_train = torch.tensor(sm_x,dtype = torch.float32)\n",
        "    self.y_train = torch.tensor(sm_y,dtype = torch.float32)\n",
        "\n",
        "\n",
        "\n",
        "  def __len__(self):\n",
        "    return len(self.y_train)\n",
        "\n",
        "  def __getitem__(self, idx):\n",
        "    return self.x_train[idx],self.y_train[idx]\n",
        "\n",
        "\n"
      ],
      "metadata": {
        "id": "O0z5xo5pOXYC"
      },
      "execution_count": null,
      "outputs": []
    },
    {
      "cell_type": "code",
      "source": [
        "sm_train = SMDataset('creditcard.csv')\n",
        "sm_train_loader=DataLoader(sm_train,batch_size=BATCH_SIZE,shuffle=True)"
      ],
      "metadata": {
        "id": "fzpHfhk0Pn_9"
      },
      "execution_count": null,
      "outputs": []
    },
    {
      "cell_type": "code",
      "source": [
        "for values, labels in sm_train_loader:\n",
        "    print(\"data batch dimensions:\", values.shape)\n",
        "    print(\"data label dimensions:\", values.shape)\n",
        "    break"
      ],
      "metadata": {
        "id": "vIQ3WL5BPfz2",
        "colab": {
          "base_uri": "https://localhost:8080/"
        },
        "outputId": "38c2b157-fc65-44a0-9786-4d3d99039cde"
      },
      "execution_count": null,
      "outputs": [
        {
          "output_type": "stream",
          "name": "stdout",
          "text": [
            "data batch dimensions: torch.Size([15, 30])\n",
            "data label dimensions: torch.Size([15, 30])\n"
          ]
        }
      ]
    },
    {
      "cell_type": "code",
      "source": [
        "device = torch.device(\"cuda\" if torch.cuda.is_available() else \"cpu\")"
      ],
      "metadata": {
        "id": "vnko-gw3P1Ho"
      },
      "execution_count": null,
      "outputs": []
    },
    {
      "cell_type": "code",
      "source": [
        "model2 = MyModel()\n",
        "model2 = model2.to(device)"
      ],
      "metadata": {
        "id": "nGhx4gJCQQ1O"
      },
      "execution_count": null,
      "outputs": []
    },
    {
      "cell_type": "code",
      "source": [
        "num_epochs = 20\n",
        "learning_rate = 0.000001\n",
        "\n",
        "criterion = nn.BCEWithLogitsLoss() # loss function\n",
        "optimizer = torch.optim.Adam(model2.parameters(), lr=learning_rate)"
      ],
      "metadata": {
        "id": "0oDLSjF7QiGq"
      },
      "execution_count": null,
      "outputs": []
    },
    {
      "cell_type": "code",
      "execution_count": null,
      "metadata": {
        "id": "JrJT-AmeRFQe",
        "colab": {
          "base_uri": "https://localhost:8080/"
        },
        "outputId": "a23256e6-f24e-486c-ac8e-cf74fff2901f"
      },
      "outputs": [
        {
          "output_type": "stream",
          "name": "stdout",
          "text": [
            "Epoch: 1 | Loss: 1.8892 | Time: 41.06\n",
            "Epoch: 2 | Loss: 0.3734 | Time: 40.78\n",
            "Epoch: 3 | Loss: 0.3008 | Time: 40.79\n",
            "Epoch: 4 | Loss: 0.2570 | Time: 41.35\n",
            "Epoch: 5 | Loss: 0.2271 | Time: 40.69\n",
            "Epoch: 6 | Loss: 0.2041 | Time: 40.76\n",
            "Epoch: 7 | Loss: 0.1875 | Time: 40.74\n",
            "Epoch: 8 | Loss: 0.1746 | Time: 40.61\n",
            "Epoch: 9 | Loss: 0.1640 | Time: 40.75\n",
            "Epoch: 10 | Loss: 0.1545 | Time: 40.54\n",
            "Epoch: 11 | Loss: 0.1469 | Time: 40.39\n",
            "Epoch: 12 | Loss: 0.1405 | Time: 40.59\n",
            "Epoch: 13 | Loss: 0.1354 | Time: 40.03\n",
            "Epoch: 14 | Loss: 0.1302 | Time: 40.26\n",
            "Epoch: 15 | Loss: 0.1254 | Time: 40.58\n",
            "Epoch: 16 | Loss: 0.1219 | Time: 40.12\n",
            "Epoch: 17 | Loss: 0.1190 | Time: 40.06\n",
            "Epoch: 18 | Loss: 0.1156 | Time: 40.94\n",
            "Epoch: 19 | Loss: 0.1131 | Time: 40.04\n",
            "Epoch: 20 | Loss: 0.1111 | Time: 40.31\n"
          ]
        }
      ],
      "source": [
        "for epoch in range(num_epochs):\n",
        "    train_running_loss = 0.0\n",
        "    train_acc = 0.0\n",
        "\n",
        "    # Set the model to training mode: relevant for dropout, batchnorm, etc.\n",
        "    model2 = model2.train()\n",
        "    start = time()\n",
        "    ## training step\n",
        "    for i, (images, labels) in enumerate(sm_train_loader):\n",
        "        #labels = labels.type(torch.LongTensor)\n",
        "\n",
        "        images = images.to(device)\n",
        "        labels = labels.to(device)\n",
        "\n",
        "        ## forward + backprop + loss\n",
        "        logits = model2(images)\n",
        "\n",
        "        loss = criterion(logits, labels)\n",
        "\n",
        "        # Reset the gradients to zero: otherwise they accumulate!\n",
        "        optimizer.zero_grad()\n",
        "\n",
        "        # Backpropagation\n",
        "        loss.backward()\n",
        "\n",
        "        ## update model params\n",
        "        optimizer.step()\n",
        "\n",
        "        train_running_loss += loss.item()\n",
        "\n",
        "\n",
        "    model2.eval()\n",
        "    print(f\"Epoch: {epoch+1} | Loss: {train_running_loss / i:.4f} | Time: {time()-start:.2f}\")"
      ]
    },
    {
      "cell_type": "code",
      "source": [
        "sm_predictions = []\n",
        "sm_targets = []\n",
        "for j, (test_sm_images,test_sm_labels) in enumerate(test_loader):\n",
        "        #labels = labels.type(torch.LongTensor)\n",
        "\n",
        "\n",
        "        test_sm_images = test_sm_images.to(device)\n",
        "        test_sm_labels = test_sm_labels.to(device)\n",
        "\n",
        "\n",
        "        ## forward + backprop + loss\n",
        "        sm_res = model2(test_sm_images)\n",
        "        sm_batch_pred = m(sm_res)\n",
        "        sm_batch_pred = torch.round(sm_batch_pred)\n",
        "        sm_predictions = sm_predictions + list(sm_batch_pred.cpu().detach().numpy())\n",
        "        sm_targets = sm_targets + list(test_sm_labels.cpu().detach().numpy())\n",
        "\n",
        "\n"
      ],
      "metadata": {
        "id": "XYRRQ5aJ14ls"
      },
      "execution_count": null,
      "outputs": []
    },
    {
      "cell_type": "code",
      "source": [
        "ConfusionMatrixDisplay.from_predictions(sm_targets, sm_predictions)"
      ],
      "metadata": {
        "colab": {
          "base_uri": "https://localhost:8080/"
        },
        "outputId": "c4274a92-a847-4bb9-d930-377bcbb5eece",
        "id": "HIJTAbRz2Y2t"
      },
      "execution_count": null,
      "outputs": [
        {
          "output_type": "execute_result",
          "data": {
            "text/plain": [
              "<sklearn.metrics._plot.confusion_matrix.ConfusionMatrixDisplay at 0x7f35d20eb820>"
            ]
          },
          "metadata": {},
          "execution_count": 40
        },
        {
          "output_type": "display_data",
          "data": {
            "text/plain": [
              "<Figure size 640x480 with 2 Axes>"
            ],
            "image/png": "[encoded data removed]"
          },
          "metadata": {}
        }
      ]
    },
    {
      "cell_type": "code",
      "source": [
        "print(classification_report(sm_targets, sm_predictions))"
      ],
      "metadata": {
        "colab": {
          "base_uri": "https://localhost:8080/"
        },
        "id": "m1-ya3f82b5d",
        "outputId": "03a660ee-ec7a-4b1e-8c4f-8f57a327d470"
      },
      "execution_count": null,
      "outputs": [
        {
          "output_type": "stream",
          "name": "stdout",
          "text": [
            "              precision    recall  f1-score   support\n",
            "\n",
            "         0.0       1.00      1.00      1.00     84699\n",
            "         1.0       0.28      0.79      0.41       107\n",
            "\n",
            "    accuracy                           1.00     84806\n",
            "   macro avg       0.64      0.90      0.71     84806\n",
            "weighted avg       1.00      1.00      1.00     84806\n",
            "\n"
          ]
        }
      ]
    }
  ]
}