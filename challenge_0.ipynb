{
  "cells": [
    {
      "cell_type": "markdown",
      "source": [
        "# Challenge $0$\n"
      ],
      "metadata": {
        "id": "2adzcfnbRZZY"
      },
      "id": "2adzcfnbRZZY"
    },
    {
      "cell_type": "markdown",
      "id": "eccd6e67",
      "metadata": {
        "id": "eccd6e67"
      },
      "source": [
        "## 1. ***Data cleaning with Pandas***\n",
        "\n",
        "Use the library `pandas` to load and clean the required dataset."
      ]
    },
    {
      "cell_type": "code",
      "execution_count": 1,
      "id": "39ae18d1",
      "metadata": {
        "id": "39ae18d1"
      },
      "outputs": [],
      "source": [
        "import numpy as np\n",
        "import matplotlib.pyplot as plt\n",
        "import pandas as pd\n",
        "import os"
      ]
    },
    {
      "cell_type": "markdown",
      "source": [
        "Obtain the data file"
      ],
      "metadata": {
        "id": "6XPiwcNUPJAw"
      },
      "id": "6XPiwcNUPJAw"
    },
    {
      "cell_type": "code",
      "source": [
        "FFILE = './50_Startups.csv'\n",
        "if os.path.isfile(FFILE): \n",
        "    print(\"File already exists\")\n",
        "    if os.access(FFILE, os.R_OK):\n",
        "        print (\"File is readable\")\n",
        "    else:\n",
        "        print (\"File is not readable, removing it and downloading again\")\n",
        "        !rm FFILE\n",
        "        !wget \"https://raw.github.com/alexdepremia/ML_IADA_UTs/main/challenge_0/50_Startups.csv\"\n",
        "else:\n",
        "    print(\"Either the file is missing or not readable, download it\")\n",
        "    !wget \"https://raw.github.com/alexdepremia/ML_IADA_UTs/main/challenge_0/50_Startups.csv\""
      ],
      "metadata": {
        "id": "AkGFWaHZOi-l",
        "colab": {
          "base_uri": "https://localhost:8080/"
        },
        "outputId": "7bebb096-2d29-4ee1-9ab6-7656adda4734"
      },
      "id": "AkGFWaHZOi-l",
      "execution_count": 2,
      "outputs": [
        {
          "output_type": "stream",
          "name": "stdout",
          "text": [
            "Either the file is missing or not readable, download it\n",
            "--2022-11-23 22:50:50--  https://raw.github.com/alexdepremia/ML_IADA_UTs/main/challenge_0/50_Startups.csv\n",
            "Resolving raw.github.com (raw.github.com)... 185.199.109.133, 185.199.108.133, 185.199.110.133, ...\n",
            "Connecting to raw.github.com (raw.github.com)|185.199.109.133|:443... connected.\n",
            "HTTP request sent, awaiting response... 301 Moved Permanently\n",
            "Location: https://raw.githubusercontent.com/alexdepremia/ML_IADA_UTs/main/challenge_0/50_Startups.csv [following]\n",
            "--2022-11-23 22:50:51--  https://raw.githubusercontent.com/alexdepremia/ML_IADA_UTs/main/challenge_0/50_Startups.csv\n",
            "Resolving raw.githubusercontent.com (raw.githubusercontent.com)... 185.199.109.133, 185.199.111.133, 185.199.110.133, ...\n",
            "Connecting to raw.githubusercontent.com (raw.githubusercontent.com)|185.199.109.133|:443... connected.\n",
            "HTTP request sent, awaiting response... 200 OK\n",
            "Length: 2436 (2.4K) [text/plain]\n",
            "Saving to: ‘50_Startups.csv’\n",
            "\n",
            "50_Startups.csv     100%[===================>]   2.38K  --.-KB/s    in 0s      \n",
            "\n",
            "2022-11-23 22:50:51 (28.8 MB/s) - ‘50_Startups.csv’ saved [2436/2436]\n",
            "\n"
          ]
        }
      ]
    },
    {
      "cell_type": "code",
      "execution_count": 3,
      "id": "984f3c35",
      "metadata": {
        "id": "984f3c35"
      },
      "outputs": [],
      "source": [
        "# load the dataset using pandas\n",
        "data = pd.read_csv('50_Startups.csv')\n",
        "# extract data feature matrix and labels\n",
        "X = data.iloc[:,:-2].values\n",
        "y = data.iloc[:,3].values\n",
        "df = pd.DataFrame(data)"
      ]
    },
    {
      "cell_type": "code",
      "execution_count": 4,
      "id": "d4ef5d4c",
      "metadata": {
        "id": "d4ef5d4c",
        "colab": {
          "base_uri": "https://localhost:8080/"
        },
        "outputId": "7212ef84-e1e1-4165-8463-f197803f0242"
      },
      "outputs": [
        {
          "output_type": "execute_result",
          "data": {
            "text/plain": [
              "array(['New York', 'California', 'Florida', 'New York', 'Florida',\n",
              "       'New York', 'California', 'Florida', 'New York', 'California',\n",
              "       'Florida', 'California', 'Florida', 'California', 'Florida',\n",
              "       'New York', 'California', 'New York', 'Florida', 'New York',\n",
              "       'California', 'New York', 'Florida', 'Florida', 'New York',\n",
              "       'California', 'Florida', 'New York', 'Florida', 'New York',\n",
              "       'Florida', 'New York', 'California', 'Florida', 'California',\n",
              "       'New York', 'Florida', 'California', 'New York', 'California',\n",
              "       'California', 'Florida', 'California', 'New York', 'California',\n",
              "       'New York', 'Florida', 'California', 'New York', 'California'],\n",
              "      dtype=object)"
            ]
          },
          "metadata": {},
          "execution_count": 4
        }
      ],
      "source": [
        "y"
      ]
    },
    {
      "cell_type": "markdown",
      "id": "6c52b5bb",
      "metadata": {
        "id": "6c52b5bb"
      },
      "source": [
        "***Play with data***"
      ]
    },
    {
      "cell_type": "code",
      "execution_count": 5,
      "id": "6bc66e09",
      "metadata": {
        "scrolled": true,
        "id": "6bc66e09",
        "colab": {
          "base_uri": "https://localhost:8080/"
        },
        "outputId": "859a2ad0-3383-4262-d8f1-ab5e67df4ccb"
      },
      "outputs": [
        {
          "output_type": "execute_result",
          "data": {
            "text/plain": [
              "(50, 5)"
            ]
          },
          "metadata": {},
          "execution_count": 5
        }
      ],
      "source": [
        "df.shape"
      ]
    },
    {
      "cell_type": "code",
      "execution_count": 6,
      "id": "9f5107f7",
      "metadata": {
        "id": "9f5107f7",
        "colab": {
          "base_uri": "https://localhost:8080/",
          "height": 261
        },
        "outputId": "267ab496-2312-43a4-8e83-5f14a7e173eb"
      },
      "outputs": [
        {
          "output_type": "stream",
          "name": "stderr",
          "text": [
            "/usr/local/lib/python3.7/dist-packages/ipykernel_launcher.py:1: FutureWarning: Dropping of nuisance columns in DataFrame reductions (with 'numeric_only=None') is deprecated; in a future version this will raise TypeError.  Select only valid columns before calling the reduction.\n",
            "  \"\"\"Entry point for launching an IPython kernel.\n"
          ]
        },
        {
          "output_type": "execute_result",
          "data": {
            "text/plain": [
              "   R&D Spend  Administration  Marketing Spend       State     Profit\n",
              "0  165349.20       136897.80        471784.10    New York  192261.83\n",
              "1  162597.70       151377.59        443898.53  California  191792.06\n",
              "2  153441.51       101145.55        407934.54     Florida  191050.39\n",
              "3  144372.41       118671.85        383199.62    New York  182901.99\n",
              "4  142107.34        91391.77        366168.42     Florida  166187.94"
            ],
            "text/html": [
              "\n",
              "  <div id=\"df-49550ae4-4c85-4d92-b120-3567d73a177f\">\n",
              "    <div class=\"colab-df-container\">\n",
              "      <div>\n",
              "<style scoped>\n",
              "    .dataframe tbody tr th:only-of-type {\n",
              "        vertical-align: middle;\n",
              "    }\n",
              "\n",
              "    .dataframe tbody tr th {\n",
              "        vertical-align: top;\n",
              "    }\n",
              "\n",
              "    .dataframe thead th {\n",
              "        text-align: right;\n",
              "    }\n",
              "</style>\n",
              "<table border=\"1\" class=\"dataframe\">\n",
              "  <thead>\n",
              "    <tr style=\"text-align: right;\">\n",
              "      <th></th>\n",
              "      <th>R&amp;D Spend</th>\n",
              "      <th>Administration</th>\n",
              "      <th>Marketing Spend</th>\n",
              "      <th>State</th>\n",
              "      <th>Profit</th>\n",
              "    </tr>\n",
              "  </thead>\n",
              "  <tbody>\n",
              "    <tr>\n",
              "      <th>0</th>\n",
              "      <td>165349.20</td>\n",
              "      <td>136897.80</td>\n",
              "      <td>471784.10</td>\n",
              "      <td>New York</td>\n",
              "      <td>192261.83</td>\n",
              "    </tr>\n",
              "    <tr>\n",
              "      <th>1</th>\n",
              "      <td>162597.70</td>\n",
              "      <td>151377.59</td>\n",
              "      <td>443898.53</td>\n",
              "      <td>California</td>\n",
              "      <td>191792.06</td>\n",
              "    </tr>\n",
              "    <tr>\n",
              "      <th>2</th>\n",
              "      <td>153441.51</td>\n",
              "      <td>101145.55</td>\n",
              "      <td>407934.54</td>\n",
              "      <td>Florida</td>\n",
              "      <td>191050.39</td>\n",
              "    </tr>\n",
              "    <tr>\n",
              "      <th>3</th>\n",
              "      <td>144372.41</td>\n",
              "      <td>118671.85</td>\n",
              "      <td>383199.62</td>\n",
              "      <td>New York</td>\n",
              "      <td>182901.99</td>\n",
              "    </tr>\n",
              "    <tr>\n",
              "      <th>4</th>\n",
              "      <td>142107.34</td>\n",
              "      <td>91391.77</td>\n",
              "      <td>366168.42</td>\n",
              "      <td>Florida</td>\n",
              "      <td>166187.94</td>\n",
              "    </tr>\n",
              "  </tbody>\n",
              "</table>\n",
              "</div>\n",
              "      <button class=\"colab-df-convert\" onclick=\"convertToInteractive('df-49550ae4-4c85-4d92-b120-3567d73a177f')\"\n",
              "              title=\"Convert this dataframe to an interactive table.\"\n",
              "              style=\"display:none;\">\n",
              "        \n",
              "  <svg xmlns=\"http://www.w3.org/2000/svg\" height=\"24px\"viewBox=\"0 0 24 24\"\n",
              "       width=\"24px\">\n",
              "    <path d=\"M0 0h24v24H0V0z\" fill=\"none\"/>\n",
              "    <path d=\"M18.56 5.44l.94 2.06.94-2.06 2.06-.94-2.06-.94-.94-2.06-.94 2.06-2.06.94zm-11 1L8.5 8.5l.94-2.06 2.06-.94-2.06-.94L8.5 2.5l-.94 2.06-2.06.94zm10 10l.94 2.06.94-2.06 2.06-.94-2.06-.94-.94-2.06-.94 2.06-2.06.94z\"/><path d=\"M17.41 7.96l-1.37-1.37c-.4-.4-.92-.59-1.43-.59-.52 0-1.04.2-1.43.59L10.3 9.45l-7.72 7.72c-.78.78-.78 2.05 0 2.83L4 21.41c.39.39.9.59 1.41.59.51 0 1.02-.2 1.41-.59l7.78-7.78 2.81-2.81c.8-.78.8-2.07 0-2.86zM5.41 20L4 18.59l7.72-7.72 1.47 1.35L5.41 20z\"/>\n",
              "  </svg>\n",
              "      </button>\n",
              "      \n",
              "  <style>\n",
              "    .colab-df-container {\n",
              "      display:flex;\n",
              "      flex-wrap:wrap;\n",
              "      gap: 12px;\n",
              "    }\n",
              "\n",
              "    .colab-df-convert {\n",
              "      background-color: #E8F0FE;\n",
              "      border: none;\n",
              "      border-radius: 50%;\n",
              "      cursor: pointer;\n",
              "      display: none;\n",
              "      fill: #1967D2;\n",
              "      height: 32px;\n",
              "      padding: 0 0 0 0;\n",
              "      width: 32px;\n",
              "    }\n",
              "\n",
              "    .colab-df-convert:hover {\n",
              "      background-color: #E2EBFA;\n",
              "      box-shadow: 0px 1px 2px rgba(60, 64, 67, 0.3), 0px 1px 3px 1px rgba(60, 64, 67, 0.15);\n",
              "      fill: #174EA6;\n",
              "    }\n",
              "\n",
              "    [theme=dark] .colab-df-convert {\n",
              "      background-color: #3B4455;\n",
              "      fill: #D2E3FC;\n",
              "    }\n",
              "\n",
              "    [theme=dark] .colab-df-convert:hover {\n",
              "      background-color: #434B5C;\n",
              "      box-shadow: 0px 1px 3px 1px rgba(0, 0, 0, 0.15);\n",
              "      filter: drop-shadow(0px 1px 2px rgba(0, 0, 0, 0.3));\n",
              "      fill: #FFFFFF;\n",
              "    }\n",
              "  </style>\n",
              "\n",
              "      <script>\n",
              "        const buttonEl =\n",
              "          document.querySelector('#df-49550ae4-4c85-4d92-b120-3567d73a177f button.colab-df-convert');\n",
              "        buttonEl.style.display =\n",
              "          google.colab.kernel.accessAllowed ? 'block' : 'none';\n",
              "\n",
              "        async function convertToInteractive(key) {\n",
              "          const element = document.querySelector('#df-49550ae4-4c85-4d92-b120-3567d73a177f');\n",
              "          const dataTable =\n",
              "            await google.colab.kernel.invokeFunction('convertToInteractive',\n",
              "                                                     [key], {});\n",
              "          if (!dataTable) return;\n",
              "\n",
              "          const docLinkHtml = 'Like what you see? Visit the ' +\n",
              "            '<a target=\"_blank\" href=https://colab.research.google.com/notebooks/data_table.ipynb>data table notebook</a>'\n",
              "            + ' to learn more about interactive tables.';\n",
              "          element.innerHTML = '';\n",
              "          dataTable['output_type'] = 'display_data';\n",
              "          await google.colab.output.renderOutput(dataTable, element);\n",
              "          const docLink = document.createElement('div');\n",
              "          docLink.innerHTML = docLinkHtml;\n",
              "          element.appendChild(docLink);\n",
              "        }\n",
              "      </script>\n",
              "    </div>\n",
              "  </div>\n",
              "  "
            ]
          },
          "metadata": {},
          "execution_count": 6
        }
      ],
      "source": [
        "df.replace(to_replace = 0.00, value = df.mean(axis=0), inplace=True)  # inject the mean of the column when value is 0\n",
        "df.head() "
      ]
    },
    {
      "cell_type": "markdown",
      "id": "3bfef008",
      "metadata": {
        "id": "3bfef008"
      },
      "source": [
        "***Select two categories for binary classification*** "
      ]
    },
    {
      "cell_type": "code",
      "execution_count": 7,
      "id": "57f10ca0",
      "metadata": {
        "id": "57f10ca0"
      },
      "outputs": [],
      "source": [
        "df_sel=df[(df.State==\"California\") | (df.State==\"Florida\")]"
      ]
    },
    {
      "cell_type": "code",
      "execution_count": 8,
      "id": "add6c146",
      "metadata": {
        "id": "add6c146",
        "colab": {
          "base_uri": "https://localhost:8080/",
          "height": 206
        },
        "outputId": "f755a63e-6676-48cb-ba2e-2d92e9548fb7"
      },
      "outputs": [
        {
          "output_type": "execute_result",
          "data": {
            "text/plain": [
              "   R&D Spend  Administration  Marketing Spend       State     Profit\n",
              "1  162597.70       151377.59        443898.53  California  191792.06\n",
              "2  153441.51       101145.55        407934.54     Florida  191050.39\n",
              "4  142107.34        91391.77        366168.42     Florida  166187.94\n",
              "6  134615.46       147198.87        127716.82  California  156122.51\n",
              "7  130298.13       145530.06        323876.68     Florida  155752.60"
            ],
            "text/html": [
              "\n",
              "  <div id=\"df-419c5b02-0acf-4479-bd24-c6e4f0232c1a\">\n",
              "    <div class=\"colab-df-container\">\n",
              "      <div>\n",
              "<style scoped>\n",
              "    .dataframe tbody tr th:only-of-type {\n",
              "        vertical-align: middle;\n",
              "    }\n",
              "\n",
              "    .dataframe tbody tr th {\n",
              "        vertical-align: top;\n",
              "    }\n",
              "\n",
              "    .dataframe thead th {\n",
              "        text-align: right;\n",
              "    }\n",
              "</style>\n",
              "<table border=\"1\" class=\"dataframe\">\n",
              "  <thead>\n",
              "    <tr style=\"text-align: right;\">\n",
              "      <th></th>\n",
              "      <th>R&amp;D Spend</th>\n",
              "      <th>Administration</th>\n",
              "      <th>Marketing Spend</th>\n",
              "      <th>State</th>\n",
              "      <th>Profit</th>\n",
              "    </tr>\n",
              "  </thead>\n",
              "  <tbody>\n",
              "    <tr>\n",
              "      <th>1</th>\n",
              "      <td>162597.70</td>\n",
              "      <td>151377.59</td>\n",
              "      <td>443898.53</td>\n",
              "      <td>California</td>\n",
              "      <td>191792.06</td>\n",
              "    </tr>\n",
              "    <tr>\n",
              "      <th>2</th>\n",
              "      <td>153441.51</td>\n",
              "      <td>101145.55</td>\n",
              "      <td>407934.54</td>\n",
              "      <td>Florida</td>\n",
              "      <td>191050.39</td>\n",
              "    </tr>\n",
              "    <tr>\n",
              "      <th>4</th>\n",
              "      <td>142107.34</td>\n",
              "      <td>91391.77</td>\n",
              "      <td>366168.42</td>\n",
              "      <td>Florida</td>\n",
              "      <td>166187.94</td>\n",
              "    </tr>\n",
              "    <tr>\n",
              "      <th>6</th>\n",
              "      <td>134615.46</td>\n",
              "      <td>147198.87</td>\n",
              "      <td>127716.82</td>\n",
              "      <td>California</td>\n",
              "      <td>156122.51</td>\n",
              "    </tr>\n",
              "    <tr>\n",
              "      <th>7</th>\n",
              "      <td>130298.13</td>\n",
              "      <td>145530.06</td>\n",
              "      <td>323876.68</td>\n",
              "      <td>Florida</td>\n",
              "      <td>155752.60</td>\n",
              "    </tr>\n",
              "  </tbody>\n",
              "</table>\n",
              "</div>\n",
              "      <button class=\"colab-df-convert\" onclick=\"convertToInteractive('df-419c5b02-0acf-4479-bd24-c6e4f0232c1a')\"\n",
              "              title=\"Convert this dataframe to an interactive table.\"\n",
              "              style=\"display:none;\">\n",
              "        \n",
              "  <svg xmlns=\"http://www.w3.org/2000/svg\" height=\"24px\"viewBox=\"0 0 24 24\"\n",
              "       width=\"24px\">\n",
              "    <path d=\"M0 0h24v24H0V0z\" fill=\"none\"/>\n",
              "    <path d=\"M18.56 5.44l.94 2.06.94-2.06 2.06-.94-2.06-.94-.94-2.06-.94 2.06-2.06.94zm-11 1L8.5 8.5l.94-2.06 2.06-.94-2.06-.94L8.5 2.5l-.94 2.06-2.06.94zm10 10l.94 2.06.94-2.06 2.06-.94-2.06-.94-.94-2.06-.94 2.06-2.06.94z\"/><path d=\"M17.41 7.96l-1.37-1.37c-.4-.4-.92-.59-1.43-.59-.52 0-1.04.2-1.43.59L10.3 9.45l-7.72 7.72c-.78.78-.78 2.05 0 2.83L4 21.41c.39.39.9.59 1.41.59.51 0 1.02-.2 1.41-.59l7.78-7.78 2.81-2.81c.8-.78.8-2.07 0-2.86zM5.41 20L4 18.59l7.72-7.72 1.47 1.35L5.41 20z\"/>\n",
              "  </svg>\n",
              "      </button>\n",
              "      \n",
              "  <style>\n",
              "    .colab-df-container {\n",
              "      display:flex;\n",
              "      flex-wrap:wrap;\n",
              "      gap: 12px;\n",
              "    }\n",
              "\n",
              "    .colab-df-convert {\n",
              "      background-color: #E8F0FE;\n",
              "      border: none;\n",
              "      border-radius: 50%;\n",
              "      cursor: pointer;\n",
              "      display: none;\n",
              "      fill: #1967D2;\n",
              "      height: 32px;\n",
              "      padding: 0 0 0 0;\n",
              "      width: 32px;\n",
              "    }\n",
              "\n",
              "    .colab-df-convert:hover {\n",
              "      background-color: #E2EBFA;\n",
              "      box-shadow: 0px 1px 2px rgba(60, 64, 67, 0.3), 0px 1px 3px 1px rgba(60, 64, 67, 0.15);\n",
              "      fill: #174EA6;\n",
              "    }\n",
              "\n",
              "    [theme=dark] .colab-df-convert {\n",
              "      background-color: #3B4455;\n",
              "      fill: #D2E3FC;\n",
              "    }\n",
              "\n",
              "    [theme=dark] .colab-df-convert:hover {\n",
              "      background-color: #434B5C;\n",
              "      box-shadow: 0px 1px 3px 1px rgba(0, 0, 0, 0.15);\n",
              "      filter: drop-shadow(0px 1px 2px rgba(0, 0, 0, 0.3));\n",
              "      fill: #FFFFFF;\n",
              "    }\n",
              "  </style>\n",
              "\n",
              "      <script>\n",
              "        const buttonEl =\n",
              "          document.querySelector('#df-419c5b02-0acf-4479-bd24-c6e4f0232c1a button.colab-df-convert');\n",
              "        buttonEl.style.display =\n",
              "          google.colab.kernel.accessAllowed ? 'block' : 'none';\n",
              "\n",
              "        async function convertToInteractive(key) {\n",
              "          const element = document.querySelector('#df-419c5b02-0acf-4479-bd24-c6e4f0232c1a');\n",
              "          const dataTable =\n",
              "            await google.colab.kernel.invokeFunction('convertToInteractive',\n",
              "                                                     [key], {});\n",
              "          if (!dataTable) return;\n",
              "\n",
              "          const docLinkHtml = 'Like what you see? Visit the ' +\n",
              "            '<a target=\"_blank\" href=https://colab.research.google.com/notebooks/data_table.ipynb>data table notebook</a>'\n",
              "            + ' to learn more about interactive tables.';\n",
              "          element.innerHTML = '';\n",
              "          dataTable['output_type'] = 'display_data';\n",
              "          await google.colab.output.renderOutput(dataTable, element);\n",
              "          const docLink = document.createElement('div');\n",
              "          docLink.innerHTML = docLinkHtml;\n",
              "          element.appendChild(docLink);\n",
              "        }\n",
              "      </script>\n",
              "    </div>\n",
              "  </div>\n",
              "  "
            ]
          },
          "metadata": {},
          "execution_count": 8
        }
      ],
      "source": [
        "df_sel.head() # column title and first rows of the dataset"
      ]
    },
    {
      "cell_type": "code",
      "execution_count": 9,
      "id": "32984bcc",
      "metadata": {
        "id": "32984bcc",
        "colab": {
          "base_uri": "https://localhost:8080/"
        },
        "outputId": "ba7396a6-b7ca-47be-80d4-764076aeaa40"
      },
      "outputs": [
        {
          "output_type": "execute_result",
          "data": {
            "text/plain": [
              "R&D Spend          float64\n",
              "Administration     float64\n",
              "Marketing Spend    float64\n",
              "State               object\n",
              "Profit             float64\n",
              "dtype: object"
            ]
          },
          "metadata": {},
          "execution_count": 9
        }
      ],
      "source": [
        "df_sel.dtypes # type of each column  "
      ]
    },
    {
      "cell_type": "markdown",
      "id": "0784375e",
      "metadata": {
        "id": "0784375e"
      },
      "source": [
        "***Encode categorical data*** \n",
        "\n",
        "One-hot encoding of categorical feature _State_"
      ]
    },
    {
      "cell_type": "code",
      "execution_count": 10,
      "id": "0a6b154f",
      "metadata": {
        "id": "0a6b154f"
      },
      "outputs": [],
      "source": [
        "df_one = pd.get_dummies(df_sel[\"State\"])"
      ]
    },
    {
      "cell_type": "code",
      "execution_count": 11,
      "id": "3f282229",
      "metadata": {
        "scrolled": true,
        "id": "3f282229",
        "colab": {
          "base_uri": "https://localhost:8080/",
          "height": 206
        },
        "outputId": "8d4a0260-5752-4ab0-ffb3-7ccbd58fdb2b"
      },
      "outputs": [
        {
          "output_type": "execute_result",
          "data": {
            "text/plain": [
              "   California  Florida\n",
              "1           1        0\n",
              "2           0        1\n",
              "4           0        1\n",
              "6           1        0\n",
              "7           0        1"
            ],
            "text/html": [
              "\n",
              "  <div id=\"df-0a00e95e-0034-4af2-8f03-036fc2ae4fb4\">\n",
              "    <div class=\"colab-df-container\">\n",
              "      <div>\n",
              "<style scoped>\n",
              "    .dataframe tbody tr th:only-of-type {\n",
              "        vertical-align: middle;\n",
              "    }\n",
              "\n",
              "    .dataframe tbody tr th {\n",
              "        vertical-align: top;\n",
              "    }\n",
              "\n",
              "    .dataframe thead th {\n",
              "        text-align: right;\n",
              "    }\n",
              "</style>\n",
              "<table border=\"1\" class=\"dataframe\">\n",
              "  <thead>\n",
              "    <tr style=\"text-align: right;\">\n",
              "      <th></th>\n",
              "      <th>California</th>\n",
              "      <th>Florida</th>\n",
              "    </tr>\n",
              "  </thead>\n",
              "  <tbody>\n",
              "    <tr>\n",
              "      <th>1</th>\n",
              "      <td>1</td>\n",
              "      <td>0</td>\n",
              "    </tr>\n",
              "    <tr>\n",
              "      <th>2</th>\n",
              "      <td>0</td>\n",
              "      <td>1</td>\n",
              "    </tr>\n",
              "    <tr>\n",
              "      <th>4</th>\n",
              "      <td>0</td>\n",
              "      <td>1</td>\n",
              "    </tr>\n",
              "    <tr>\n",
              "      <th>6</th>\n",
              "      <td>1</td>\n",
              "      <td>0</td>\n",
              "    </tr>\n",
              "    <tr>\n",
              "      <th>7</th>\n",
              "      <td>0</td>\n",
              "      <td>1</td>\n",
              "    </tr>\n",
              "  </tbody>\n",
              "</table>\n",
              "</div>\n",
              "      <button class=\"colab-df-convert\" onclick=\"convertToInteractive('df-0a00e95e-0034-4af2-8f03-036fc2ae4fb4')\"\n",
              "              title=\"Convert this dataframe to an interactive table.\"\n",
              "              style=\"display:none;\">\n",
              "        \n",
              "  <svg xmlns=\"http://www.w3.org/2000/svg\" height=\"24px\"viewBox=\"0 0 24 24\"\n",
              "       width=\"24px\">\n",
              "    <path d=\"M0 0h24v24H0V0z\" fill=\"none\"/>\n",
              "    <path d=\"M18.56 5.44l.94 2.06.94-2.06 2.06-.94-2.06-.94-.94-2.06-.94 2.06-2.06.94zm-11 1L8.5 8.5l.94-2.06 2.06-.94-2.06-.94L8.5 2.5l-.94 2.06-2.06.94zm10 10l.94 2.06.94-2.06 2.06-.94-2.06-.94-.94-2.06-.94 2.06-2.06.94z\"/><path d=\"M17.41 7.96l-1.37-1.37c-.4-.4-.92-.59-1.43-.59-.52 0-1.04.2-1.43.59L10.3 9.45l-7.72 7.72c-.78.78-.78 2.05 0 2.83L4 21.41c.39.39.9.59 1.41.59.51 0 1.02-.2 1.41-.59l7.78-7.78 2.81-2.81c.8-.78.8-2.07 0-2.86zM5.41 20L4 18.59l7.72-7.72 1.47 1.35L5.41 20z\"/>\n",
              "  </svg>\n",
              "      </button>\n",
              "      \n",
              "  <style>\n",
              "    .colab-df-container {\n",
              "      display:flex;\n",
              "      flex-wrap:wrap;\n",
              "      gap: 12px;\n",
              "    }\n",
              "\n",
              "    .colab-df-convert {\n",
              "      background-color: #E8F0FE;\n",
              "      border: none;\n",
              "      border-radius: 50%;\n",
              "      cursor: pointer;\n",
              "      display: none;\n",
              "      fill: #1967D2;\n",
              "      height: 32px;\n",
              "      padding: 0 0 0 0;\n",
              "      width: 32px;\n",
              "    }\n",
              "\n",
              "    .colab-df-convert:hover {\n",
              "      background-color: #E2EBFA;\n",
              "      box-shadow: 0px 1px 2px rgba(60, 64, 67, 0.3), 0px 1px 3px 1px rgba(60, 64, 67, 0.15);\n",
              "      fill: #174EA6;\n",
              "    }\n",
              "\n",
              "    [theme=dark] .colab-df-convert {\n",
              "      background-color: #3B4455;\n",
              "      fill: #D2E3FC;\n",
              "    }\n",
              "\n",
              "    [theme=dark] .colab-df-convert:hover {\n",
              "      background-color: #434B5C;\n",
              "      box-shadow: 0px 1px 3px 1px rgba(0, 0, 0, 0.15);\n",
              "      filter: drop-shadow(0px 1px 2px rgba(0, 0, 0, 0.3));\n",
              "      fill: #FFFFFF;\n",
              "    }\n",
              "  </style>\n",
              "\n",
              "      <script>\n",
              "        const buttonEl =\n",
              "          document.querySelector('#df-0a00e95e-0034-4af2-8f03-036fc2ae4fb4 button.colab-df-convert');\n",
              "        buttonEl.style.display =\n",
              "          google.colab.kernel.accessAllowed ? 'block' : 'none';\n",
              "\n",
              "        async function convertToInteractive(key) {\n",
              "          const element = document.querySelector('#df-0a00e95e-0034-4af2-8f03-036fc2ae4fb4');\n",
              "          const dataTable =\n",
              "            await google.colab.kernel.invokeFunction('convertToInteractive',\n",
              "                                                     [key], {});\n",
              "          if (!dataTable) return;\n",
              "\n",
              "          const docLinkHtml = 'Like what you see? Visit the ' +\n",
              "            '<a target=\"_blank\" href=https://colab.research.google.com/notebooks/data_table.ipynb>data table notebook</a>'\n",
              "            + ' to learn more about interactive tables.';\n",
              "          element.innerHTML = '';\n",
              "          dataTable['output_type'] = 'display_data';\n",
              "          await google.colab.output.renderOutput(dataTable, element);\n",
              "          const docLink = document.createElement('div');\n",
              "          docLink.innerHTML = docLinkHtml;\n",
              "          element.appendChild(docLink);\n",
              "        }\n",
              "      </script>\n",
              "    </div>\n",
              "  </div>\n",
              "  "
            ]
          },
          "metadata": {},
          "execution_count": 11
        }
      ],
      "source": [
        "df_one.head()"
      ]
    },
    {
      "cell_type": "code",
      "execution_count": 12,
      "id": "74e5d9d7",
      "metadata": {
        "id": "74e5d9d7",
        "colab": {
          "base_uri": "https://localhost:8080/",
          "height": 206
        },
        "outputId": "30ee1027-3429-4bbc-9bbb-bb80602a2f81"
      },
      "outputs": [
        {
          "output_type": "execute_result",
          "data": {
            "text/plain": [
              "   State  R&D Spend  Administration  Marketing Spend     Profit\n",
              "1      1  162597.70       151377.59        443898.53  191792.06\n",
              "2      0  153441.51       101145.55        407934.54  191050.39\n",
              "4      0  142107.34        91391.77        366168.42  166187.94\n",
              "6      1  134615.46       147198.87        127716.82  156122.51\n",
              "7      0  130298.13       145530.06        323876.68  155752.60"
            ],
            "text/html": [
              "\n",
              "  <div id=\"df-a8746a68-efce-43a4-9968-f9dfe52fa92d\">\n",
              "    <div class=\"colab-df-container\">\n",
              "      <div>\n",
              "<style scoped>\n",
              "    .dataframe tbody tr th:only-of-type {\n",
              "        vertical-align: middle;\n",
              "    }\n",
              "\n",
              "    .dataframe tbody tr th {\n",
              "        vertical-align: top;\n",
              "    }\n",
              "\n",
              "    .dataframe thead th {\n",
              "        text-align: right;\n",
              "    }\n",
              "</style>\n",
              "<table border=\"1\" class=\"dataframe\">\n",
              "  <thead>\n",
              "    <tr style=\"text-align: right;\">\n",
              "      <th></th>\n",
              "      <th>State</th>\n",
              "      <th>R&amp;D Spend</th>\n",
              "      <th>Administration</th>\n",
              "      <th>Marketing Spend</th>\n",
              "      <th>Profit</th>\n",
              "    </tr>\n",
              "  </thead>\n",
              "  <tbody>\n",
              "    <tr>\n",
              "      <th>1</th>\n",
              "      <td>1</td>\n",
              "      <td>162597.70</td>\n",
              "      <td>151377.59</td>\n",
              "      <td>443898.53</td>\n",
              "      <td>191792.06</td>\n",
              "    </tr>\n",
              "    <tr>\n",
              "      <th>2</th>\n",
              "      <td>0</td>\n",
              "      <td>153441.51</td>\n",
              "      <td>101145.55</td>\n",
              "      <td>407934.54</td>\n",
              "      <td>191050.39</td>\n",
              "    </tr>\n",
              "    <tr>\n",
              "      <th>4</th>\n",
              "      <td>0</td>\n",
              "      <td>142107.34</td>\n",
              "      <td>91391.77</td>\n",
              "      <td>366168.42</td>\n",
              "      <td>166187.94</td>\n",
              "    </tr>\n",
              "    <tr>\n",
              "      <th>6</th>\n",
              "      <td>1</td>\n",
              "      <td>134615.46</td>\n",
              "      <td>147198.87</td>\n",
              "      <td>127716.82</td>\n",
              "      <td>156122.51</td>\n",
              "    </tr>\n",
              "    <tr>\n",
              "      <th>7</th>\n",
              "      <td>0</td>\n",
              "      <td>130298.13</td>\n",
              "      <td>145530.06</td>\n",
              "      <td>323876.68</td>\n",
              "      <td>155752.60</td>\n",
              "    </tr>\n",
              "  </tbody>\n",
              "</table>\n",
              "</div>\n",
              "      <button class=\"colab-df-convert\" onclick=\"convertToInteractive('df-a8746a68-efce-43a4-9968-f9dfe52fa92d')\"\n",
              "              title=\"Convert this dataframe to an interactive table.\"\n",
              "              style=\"display:none;\">\n",
              "        \n",
              "  <svg xmlns=\"http://www.w3.org/2000/svg\" height=\"24px\"viewBox=\"0 0 24 24\"\n",
              "       width=\"24px\">\n",
              "    <path d=\"M0 0h24v24H0V0z\" fill=\"none\"/>\n",
              "    <path d=\"M18.56 5.44l.94 2.06.94-2.06 2.06-.94-2.06-.94-.94-2.06-.94 2.06-2.06.94zm-11 1L8.5 8.5l.94-2.06 2.06-.94-2.06-.94L8.5 2.5l-.94 2.06-2.06.94zm10 10l.94 2.06.94-2.06 2.06-.94-2.06-.94-.94-2.06-.94 2.06-2.06.94z\"/><path d=\"M17.41 7.96l-1.37-1.37c-.4-.4-.92-.59-1.43-.59-.52 0-1.04.2-1.43.59L10.3 9.45l-7.72 7.72c-.78.78-.78 2.05 0 2.83L4 21.41c.39.39.9.59 1.41.59.51 0 1.02-.2 1.41-.59l7.78-7.78 2.81-2.81c.8-.78.8-2.07 0-2.86zM5.41 20L4 18.59l7.72-7.72 1.47 1.35L5.41 20z\"/>\n",
              "  </svg>\n",
              "      </button>\n",
              "      \n",
              "  <style>\n",
              "    .colab-df-container {\n",
              "      display:flex;\n",
              "      flex-wrap:wrap;\n",
              "      gap: 12px;\n",
              "    }\n",
              "\n",
              "    .colab-df-convert {\n",
              "      background-color: #E8F0FE;\n",
              "      border: none;\n",
              "      border-radius: 50%;\n",
              "      cursor: pointer;\n",
              "      display: none;\n",
              "      fill: #1967D2;\n",
              "      height: 32px;\n",
              "      padding: 0 0 0 0;\n",
              "      width: 32px;\n",
              "    }\n",
              "\n",
              "    .colab-df-convert:hover {\n",
              "      background-color: #E2EBFA;\n",
              "      box-shadow: 0px 1px 2px rgba(60, 64, 67, 0.3), 0px 1px 3px 1px rgba(60, 64, 67, 0.15);\n",
              "      fill: #174EA6;\n",
              "    }\n",
              "\n",
              "    [theme=dark] .colab-df-convert {\n",
              "      background-color: #3B4455;\n",
              "      fill: #D2E3FC;\n",
              "    }\n",
              "\n",
              "    [theme=dark] .colab-df-convert:hover {\n",
              "      background-color: #434B5C;\n",
              "      box-shadow: 0px 1px 3px 1px rgba(0, 0, 0, 0.15);\n",
              "      filter: drop-shadow(0px 1px 2px rgba(0, 0, 0, 0.3));\n",
              "      fill: #FFFFFF;\n",
              "    }\n",
              "  </style>\n",
              "\n",
              "      <script>\n",
              "        const buttonEl =\n",
              "          document.querySelector('#df-a8746a68-efce-43a4-9968-f9dfe52fa92d button.colab-df-convert');\n",
              "        buttonEl.style.display =\n",
              "          google.colab.kernel.accessAllowed ? 'block' : 'none';\n",
              "\n",
              "        async function convertToInteractive(key) {\n",
              "          const element = document.querySelector('#df-a8746a68-efce-43a4-9968-f9dfe52fa92d');\n",
              "          const dataTable =\n",
              "            await google.colab.kernel.invokeFunction('convertToInteractive',\n",
              "                                                     [key], {});\n",
              "          if (!dataTable) return;\n",
              "\n",
              "          const docLinkHtml = 'Like what you see? Visit the ' +\n",
              "            '<a target=\"_blank\" href=https://colab.research.google.com/notebooks/data_table.ipynb>data table notebook</a>'\n",
              "            + ' to learn more about interactive tables.';\n",
              "          element.innerHTML = '';\n",
              "          dataTable['output_type'] = 'display_data';\n",
              "          await google.colab.output.renderOutput(dataTable, element);\n",
              "          const docLink = document.createElement('div');\n",
              "          docLink.innerHTML = docLinkHtml;\n",
              "          element.appendChild(docLink);\n",
              "        }\n",
              "      </script>\n",
              "    </div>\n",
              "  </div>\n",
              "  "
            ]
          },
          "metadata": {},
          "execution_count": 12
        }
      ],
      "source": [
        "# construct the final dataset that you will use for learning and prediction\n",
        "df_fin = pd.concat((df_one, df_sel), axis=1)\n",
        "df_fin = df_fin.drop([\"Florida\"], axis=1)\n",
        "df_fin = df_fin.drop([\"State\"], axis=1)\n",
        "# California is class 1, Florida is class 0\n",
        "df_fin = df_fin.rename(columns={\"California\": \"State\"})\n",
        "df_fin.head()"
      ]
    },
    {
      "cell_type": "markdown",
      "id": "ffced933",
      "metadata": {
        "id": "ffced933"
      },
      "source": [
        "***Normalize***\n",
        "\n",
        "Divide by the absolute value of the maximum so that features are in \\[0, 1\\]"
      ]
    },
    {
      "cell_type": "code",
      "execution_count": 13,
      "id": "eb704286",
      "metadata": {
        "id": "eb704286"
      },
      "outputs": [],
      "source": [
        "def absolute_maximum_scale(series):\n",
        "    return series / series.abs().max()\n",
        "\n",
        "for col in df_fin.columns:\n",
        "    df_fin[col] = absolute_maximum_scale(df_fin[col])"
      ]
    },
    {
      "cell_type": "code",
      "execution_count": 14,
      "id": "421fc34c",
      "metadata": {
        "id": "421fc34c",
        "colab": {
          "base_uri": "https://localhost:8080/",
          "height": 206
        },
        "outputId": "ceadddb7-d274-4d69-ea60-a1063b42cce9"
      },
      "outputs": [
        {
          "output_type": "execute_result",
          "data": {
            "text/plain": [
              "   State  R&D Spend  Administration  Marketing Spend    Profit\n",
              "1    1.0   1.000000        0.828805         1.000000  1.000000\n",
              "2    0.0   0.943688        0.553781         0.918982  0.996133\n",
              "4    0.0   0.873981        0.500378         0.824892  0.866501\n",
              "6    1.0   0.827905        0.805926         0.287716  0.814020\n",
              "7    0.0   0.801353        0.796789         0.729619  0.812091"
            ],
            "text/html": [
              "\n",
              "  <div id=\"df-d68bf130-79e3-4d14-86df-f87665cdd60b\">\n",
              "    <div class=\"colab-df-container\">\n",
              "      <div>\n",
              "<style scoped>\n",
              "    .dataframe tbody tr th:only-of-type {\n",
              "        vertical-align: middle;\n",
              "    }\n",
              "\n",
              "    .dataframe tbody tr th {\n",
              "        vertical-align: top;\n",
              "    }\n",
              "\n",
              "    .dataframe thead th {\n",
              "        text-align: right;\n",
              "    }\n",
              "</style>\n",
              "<table border=\"1\" class=\"dataframe\">\n",
              "  <thead>\n",
              "    <tr style=\"text-align: right;\">\n",
              "      <th></th>\n",
              "      <th>State</th>\n",
              "      <th>R&amp;D Spend</th>\n",
              "      <th>Administration</th>\n",
              "      <th>Marketing Spend</th>\n",
              "      <th>Profit</th>\n",
              "    </tr>\n",
              "  </thead>\n",
              "  <tbody>\n",
              "    <tr>\n",
              "      <th>1</th>\n",
              "      <td>1.0</td>\n",
              "      <td>1.000000</td>\n",
              "      <td>0.828805</td>\n",
              "      <td>1.000000</td>\n",
              "      <td>1.000000</td>\n",
              "    </tr>\n",
              "    <tr>\n",
              "      <th>2</th>\n",
              "      <td>0.0</td>\n",
              "      <td>0.943688</td>\n",
              "      <td>0.553781</td>\n",
              "      <td>0.918982</td>\n",
              "      <td>0.996133</td>\n",
              "    </tr>\n",
              "    <tr>\n",
              "      <th>4</th>\n",
              "      <td>0.0</td>\n",
              "      <td>0.873981</td>\n",
              "      <td>0.500378</td>\n",
              "      <td>0.824892</td>\n",
              "      <td>0.866501</td>\n",
              "    </tr>\n",
              "    <tr>\n",
              "      <th>6</th>\n",
              "      <td>1.0</td>\n",
              "      <td>0.827905</td>\n",
              "      <td>0.805926</td>\n",
              "      <td>0.287716</td>\n",
              "      <td>0.814020</td>\n",
              "    </tr>\n",
              "    <tr>\n",
              "      <th>7</th>\n",
              "      <td>0.0</td>\n",
              "      <td>0.801353</td>\n",
              "      <td>0.796789</td>\n",
              "      <td>0.729619</td>\n",
              "      <td>0.812091</td>\n",
              "    </tr>\n",
              "  </tbody>\n",
              "</table>\n",
              "</div>\n",
              "      <button class=\"colab-df-convert\" onclick=\"convertToInteractive('df-d68bf130-79e3-4d14-86df-f87665cdd60b')\"\n",
              "              title=\"Convert this dataframe to an interactive table.\"\n",
              "              style=\"display:none;\">\n",
              "        \n",
              "  <svg xmlns=\"http://www.w3.org/2000/svg\" height=\"24px\"viewBox=\"0 0 24 24\"\n",
              "       width=\"24px\">\n",
              "    <path d=\"M0 0h24v24H0V0z\" fill=\"none\"/>\n",
              "    <path d=\"M18.56 5.44l.94 2.06.94-2.06 2.06-.94-2.06-.94-.94-2.06-.94 2.06-2.06.94zm-11 1L8.5 8.5l.94-2.06 2.06-.94-2.06-.94L8.5 2.5l-.94 2.06-2.06.94zm10 10l.94 2.06.94-2.06 2.06-.94-2.06-.94-.94-2.06-.94 2.06-2.06.94z\"/><path d=\"M17.41 7.96l-1.37-1.37c-.4-.4-.92-.59-1.43-.59-.52 0-1.04.2-1.43.59L10.3 9.45l-7.72 7.72c-.78.78-.78 2.05 0 2.83L4 21.41c.39.39.9.59 1.41.59.51 0 1.02-.2 1.41-.59l7.78-7.78 2.81-2.81c.8-.78.8-2.07 0-2.86zM5.41 20L4 18.59l7.72-7.72 1.47 1.35L5.41 20z\"/>\n",
              "  </svg>\n",
              "      </button>\n",
              "      \n",
              "  <style>\n",
              "    .colab-df-container {\n",
              "      display:flex;\n",
              "      flex-wrap:wrap;\n",
              "      gap: 12px;\n",
              "    }\n",
              "\n",
              "    .colab-df-convert {\n",
              "      background-color: #E8F0FE;\n",
              "      border: none;\n",
              "      border-radius: 50%;\n",
              "      cursor: pointer;\n",
              "      display: none;\n",
              "      fill: #1967D2;\n",
              "      height: 32px;\n",
              "      padding: 0 0 0 0;\n",
              "      width: 32px;\n",
              "    }\n",
              "\n",
              "    .colab-df-convert:hover {\n",
              "      background-color: #E2EBFA;\n",
              "      box-shadow: 0px 1px 2px rgba(60, 64, 67, 0.3), 0px 1px 3px 1px rgba(60, 64, 67, 0.15);\n",
              "      fill: #174EA6;\n",
              "    }\n",
              "\n",
              "    [theme=dark] .colab-df-convert {\n",
              "      background-color: #3B4455;\n",
              "      fill: #D2E3FC;\n",
              "    }\n",
              "\n",
              "    [theme=dark] .colab-df-convert:hover {\n",
              "      background-color: #434B5C;\n",
              "      box-shadow: 0px 1px 3px 1px rgba(0, 0, 0, 0.15);\n",
              "      filter: drop-shadow(0px 1px 2px rgba(0, 0, 0, 0.3));\n",
              "      fill: #FFFFFF;\n",
              "    }\n",
              "  </style>\n",
              "\n",
              "      <script>\n",
              "        const buttonEl =\n",
              "          document.querySelector('#df-d68bf130-79e3-4d14-86df-f87665cdd60b button.colab-df-convert');\n",
              "        buttonEl.style.display =\n",
              "          google.colab.kernel.accessAllowed ? 'block' : 'none';\n",
              "\n",
              "        async function convertToInteractive(key) {\n",
              "          const element = document.querySelector('#df-d68bf130-79e3-4d14-86df-f87665cdd60b');\n",
              "          const dataTable =\n",
              "            await google.colab.kernel.invokeFunction('convertToInteractive',\n",
              "                                                     [key], {});\n",
              "          if (!dataTable) return;\n",
              "\n",
              "          const docLinkHtml = 'Like what you see? Visit the ' +\n",
              "            '<a target=\"_blank\" href=https://colab.research.google.com/notebooks/data_table.ipynb>data table notebook</a>'\n",
              "            + ' to learn more about interactive tables.';\n",
              "          element.innerHTML = '';\n",
              "          dataTable['output_type'] = 'display_data';\n",
              "          await google.colab.output.renderOutput(dataTable, element);\n",
              "          const docLink = document.createElement('div');\n",
              "          docLink.innerHTML = docLinkHtml;\n",
              "          element.appendChild(docLink);\n",
              "        }\n",
              "      </script>\n",
              "    </div>\n",
              "  </div>\n",
              "  "
            ]
          },
          "metadata": {},
          "execution_count": 14
        }
      ],
      "source": [
        "df_fin.head()"
      ]
    },
    {
      "cell_type": "markdown",
      "id": "563bfeca",
      "metadata": {
        "id": "563bfeca"
      },
      "source": [
        "***Classification***"
      ]
    },
    {
      "cell_type": "markdown",
      "id": "5e3406c4",
      "metadata": {
        "id": "5e3406c4"
      },
      "source": [
        "Prepare the dataset:"
      ]
    },
    {
      "cell_type": "code",
      "execution_count": 15,
      "id": "bc04f61d",
      "metadata": {
        "id": "bc04f61d"
      },
      "outputs": [],
      "source": [
        "y = df_fin[\"State\"] # ground truth labels\n",
        "X = df_fin.drop([\"State\"], axis=1) # datapoints features\n",
        "# extract actual values from series\n",
        "y = y.values\n",
        "X = X.values"
      ]
    },
    {
      "cell_type": "markdown",
      "id": "7b65051f",
      "metadata": {
        "id": "7b65051f"
      },
      "source": [
        "Train test split\n",
        "\n",
        "$75\\%$ of the data are in the training set, the remaining $25\\%$ constitutes the test set."
      ]
    },
    {
      "cell_type": "code",
      "execution_count": 16,
      "id": "f11e105c",
      "metadata": {
        "id": "f11e105c"
      },
      "outputs": [],
      "source": [
        "from sklearn.model_selection import train_test_split\n",
        "\n",
        "X_train, X_test, y_train, y_test = train_test_split(X, y , test_size=0.25, random_state=0)"
      ]
    },
    {
      "cell_type": "markdown",
      "id": "5ee09c7e",
      "metadata": {
        "id": "5ee09c7e"
      },
      "source": [
        "Train the Logistic Regression Model"
      ]
    },
    {
      "cell_type": "code",
      "execution_count": 17,
      "id": "1d4b2d20",
      "metadata": {
        "id": "1d4b2d20"
      },
      "outputs": [],
      "source": [
        "from sklearn.linear_model import LogisticRegression"
      ]
    },
    {
      "cell_type": "code",
      "execution_count": 18,
      "id": "592bb5af",
      "metadata": {
        "id": "592bb5af",
        "colab": {
          "base_uri": "https://localhost:8080/"
        },
        "outputId": "41d9945c-d8ac-472a-840c-d17f59092982"
      },
      "outputs": [
        {
          "output_type": "execute_result",
          "data": {
            "text/plain": [
              "0.3333"
            ]
          },
          "metadata": {},
          "execution_count": 18
        }
      ],
      "source": [
        "LR = LogisticRegression(random_state=0, solver='lbfgs').fit(X_train, y_train)\n",
        "LR.predict(X_test)\n",
        "round(LR.score(X_test,y_test), 4)"
      ]
    },
    {
      "cell_type": "markdown",
      "source": [
        "**COMMENTO**"
      ],
      "metadata": {
        "id": "I04os4l3xdTJ"
      },
      "id": "I04os4l3xdTJ"
    },
    {
      "cell_type": "markdown",
      "source": [
        "Il file \"50_Startups.csv\" contiene, come suggerisce il nome, i dati relativi a 50 aziende distrubuite tra Florida, California e New York. Gli attributi oltre allo stato sono : \"R&D Spend\", \"Administration\" , \"Marketing Spend\" e \"Profit\".\n",
        "Il file csv viene letto in python attraverso la funzione \"read_csv()\" inclusa in \"pandas\".\n",
        "Ci si pone l'obiettivo di trovare un modello che predica lo stato dell'azienda sulla base dei 4 attributi riportati prima. Dunque la y del modello sarà proprio lo stato (la penultima colonna del dataset) e la X gli altri quattro attributi.\n",
        "La funzione \"DataFrame(data)\" converte i dati letti dal file csv in un Data Frame. \n",
        "Dopo la funzione \"replace()\", già commentata nel codice, si riduce il problema in uno di classificazione binaria: si considerano solo le righe del Data Frame che hanno come stato California oppure Florida. La funzione \"get_dummies()\" applicata alla colonna dello stato restituisce una One-Hot Encoding. Essendoci solo due stati da valutare, se un'istanza ha valore 1 sotto California, avrà necessariamente 0 sotto Florida. \n",
        "In conclusione il Data Frame finale nella colonna \"State\" contiene un 1 quando l'azienda è in California, 0 quando è in Florida.\n",
        "\n",
        " I dati necessitano di essere normalizzati, per cui ogni valore è diviso per il massimo valore assoluto della rispettiva colonna. Ora che i dati sono normalizzati, si ridefiniscono la X e la y del modello tenendo conto delle modifiche apportate. \n",
        "Attraverso la libreria \"sklearn\" prima si divide il dataset in training set e test set e poi si calcolano le predizioni attraverso la Regressione Logistica."
      ],
      "metadata": {
        "id": "M5--tgP9xTsY"
      },
      "id": "M5--tgP9xTsY"
    },
    {
      "cell_type": "markdown",
      "id": "6f9b7d00",
      "metadata": {
        "id": "6f9b7d00"
      },
      "source": [
        "***Plot results***"
      ]
    },
    {
      "cell_type": "markdown",
      "source": [
        "Confusion Matrix visualization"
      ],
      "metadata": {
        "id": "1tcVC_JpHbjK"
      },
      "id": "1tcVC_JpHbjK"
    },
    {
      "cell_type": "code",
      "execution_count": 19,
      "id": "fae229d6",
      "metadata": {
        "id": "fae229d6",
        "colab": {
          "base_uri": "https://localhost:8080/",
          "height": 283
        },
        "outputId": "aebffe76-80bf-4aaa-fa77-61eae4ba04c3"
      },
      "outputs": [
        {
          "output_type": "display_data",
          "data": {
            "text/plain": [
              "<Figure size 432x288 with 2 Axes>"
            ],
            "image/png": "[encoded data removed]"
          },
          "metadata": {
            "needs_background": "light"
          }
        }
      ],
      "source": [
        "from sklearn.metrics import confusion_matrix, ConfusionMatrixDisplay\n",
        "\n",
        "cm = confusion_matrix(y_test,LR.predict(X_test),labels=LR.classes_)\n",
        "disp = ConfusionMatrixDisplay(cm,display_labels=LR.classes_)\n",
        "disp.plot()\n",
        "plt.show()\n"
      ]
    },
    {
      "cell_type": "markdown",
      "source": [
        "**COMMENTO**\n",
        "\n",
        "Importando da sklearn la Confusion Matrix si può visualizzare in maniera efficace il comportamento del modello rispetto ai valori veri salvati in \"y_test\". Si sono predette correttamente solo 3 aziende della florida, spiegando così il valore di 0.33 fornito dalla funzione \"LR.score()\" nella dodicesima cella del notebook (y_test contiene 9 valori, quindi 3/9 = 0.33)"
      ],
      "metadata": {
        "id": "TodadRDkxixY"
      },
      "id": "TodadRDkxixY"
    },
    {
      "cell_type": "markdown",
      "id": "0a2a78f4",
      "metadata": {
        "id": "0a2a78f4"
      },
      "source": [
        "***Add regularization***\n",
        "\n",
        "Implement from scratch the regularized logistic regression model (with all the regularization techniques seen during the course). "
      ]
    },
    {
      "cell_type": "code",
      "execution_count": 20,
      "id": "68a3e1fa",
      "metadata": {
        "id": "68a3e1fa"
      },
      "outputs": [],
      "source": [
        "import numpy.linalg as LA\n",
        "\n",
        "def sigmoidM(X, w):\n",
        "    \"\"\"\n",
        "    Parameters\n",
        "    ----------\n",
        "    X : array of dim n x d \n",
        "        Matrix containing the dataset\n",
        "    w : array of dim d\n",
        "        Vector representing the coefficients of the logistic model\n",
        "    \"\"\"\n",
        "    y = 1/(1+np.exp(-np.matmul(X,w)))\n",
        "    return y\n",
        "\n",
        "def LogGradient(X,labels,w,points):\n",
        "    return ((1/points)*(np.transpose(X)@(sigmoidM(X,w)-labels)))\n",
        "\n",
        "def LogisticLoss(X, labels, w):\n",
        "    \"\"\"\n",
        "    Parameters\n",
        "    ----------\n",
        "    X : array of dim n x d\n",
        "        Matrix containing the dataset\n",
        "    y : array of dim n\n",
        "        Vector representing the ground truth label of each data point\n",
        "    w : array of dim d\n",
        "        Vector representing the coefficients of the logistic model\n",
        "    \"\"\"\n",
        "    n = np.shape(X)[0]\n",
        "    cost = -(1/n)*np.sum(labels*np.log(sigmoidM(X,w)) + (1-labels)*np.log(1-sigmoidM(X,w)))\n",
        "    return cost\n"
      ]
    },
    {
      "cell_type": "markdown",
      "source": [
        "**Lasso Regression**"
      ],
      "metadata": {
        "id": "LQitEfOVLeB6"
      },
      "id": "LQitEfOVLeB6"
    },
    {
      "cell_type": "code",
      "source": [
        "def LassoLogisticLoss(X,labels,w,lam):\n",
        "    \"\"\"\n",
        "    Parameters\n",
        "    ----------\n",
        "    X : array of dim n x d\n",
        "        Matrix containing the dataset\n",
        "    y : array of dim n\n",
        "        Vector representing the ground truth label of each data point\n",
        "    w : array of dim d\n",
        "        Vector representing the coefficients of the logistic model\n",
        "    \"\"\"\n",
        "    \n",
        "    n = np.shape(X)[0]\n",
        "    logloss = -(1/n)*np.sum(labels*np.log(sigmoidM(X,w)) + (1-labels)*np.log(1-sigmoidM(X,w)))\n",
        "    penalty = LA.norm(w,1)\n",
        "    cost = logloss + (1/n)*lam*penalty\n",
        "    return cost\n",
        "\n",
        "def L1_subgradient(z):\n",
        "    g = np.ones(z.shape)\n",
        "    g[z < 0.] = -1.0\n",
        "    return g\n",
        "\n",
        "def LassoGradient(w, lam,points):\n",
        "    return (1/points)*lam * L1_subgradient(w) \n",
        "\n",
        "def LassoGDLogistic(X, labels, iter, gamma,lam):  #note\n",
        "    \"\"\"\n",
        "    Parameters\n",
        "    ----------\n",
        "    X : array of dim n x d\n",
        "        Matrix containing the dataset\n",
        "    y : array of dim n\n",
        "        Vector representing the ground truth label of each data point\n",
        "    iter : int\n",
        "        Number of GD iterations\n",
        "    gamma : float\n",
        "        Learning rate\n",
        "    lam : float\n",
        "        Weight of the L2 penalty term\n",
        "    \"\"\"\n",
        "    d = np.shape(X)\n",
        "    cost = np.zeros(iter)\n",
        "    \n",
        "   \n",
        "    #w = np.random.uniform(-1, 1, d[1])\n",
        "    #Un alternativa è settare in partenza tutti 0:\n",
        "    w = np.zeros(d[1])\n",
        "    \n",
        "    W = np.zeros((d[1],iter))\n",
        "    for i in range(iter):\n",
        "        W[:,i] = w\n",
        "        w = w-gamma*(LogGradient(X,labels,w,d[0]) + LassoGradient(w, lam,d[0]))\n",
        "        cost[i] = LassoLogisticLoss(X,labels,w,lam)\n",
        "    return W,cost "
      ],
      "metadata": {
        "id": "LMkHogGoLXHB"
      },
      "id": "LMkHogGoLXHB",
      "execution_count": 21,
      "outputs": []
    },
    {
      "cell_type": "markdown",
      "source": [
        "**Ridge Regrssion**"
      ],
      "metadata": {
        "id": "xO8dF-8KMGcU"
      },
      "id": "xO8dF-8KMGcU"
    },
    {
      "cell_type": "code",
      "source": [
        "def RidgeLogisticLoss(X,labels,w,lam):\n",
        "    \"\"\"\n",
        "    Parameters\n",
        "    ----------\n",
        "    X : array of dim n x d\n",
        "        Matrix containing the dataset\n",
        "    y : array of dim n\n",
        "        Vector representing the ground truth label of each data point\n",
        "    w : array of dim d\n",
        "        Vector representing the coefficients of the logistic model\n",
        "    \"\"\"\n",
        "    \n",
        "    n = np.shape(X)[0]\n",
        "    logloss = -(1/n)*np.sum(labels*np.log(sigmoidM(X,w)) + (1-labels)*np.log(1-sigmoidM(X,w)))\n",
        "    penalty = LA.norm(w,2)\n",
        "    cost = logloss + (1/n)*lam*penalty\n",
        "    return cost\n",
        "\n",
        "def RidgeGradient(w, lam,points):\n",
        "    return ((1/points)*2*lam*w)\n",
        "\n",
        "def RidgeGDLogistic(X, labels, iter, gamma,lam):  #note\n",
        "    \"\"\"\n",
        "    Parameters\n",
        "    ----------\n",
        "    X : array of dim n x d\n",
        "        Matrix containing the dataset\n",
        "    y : array of dim n\n",
        "        Vector representing the ground truth label of each data point\n",
        "    iter : int\n",
        "        Number of GD iterations\n",
        "    gamma : float\n",
        "        Learning rate\n",
        "    lam : float\n",
        "        Weight of the L2 penalty term\n",
        "    \"\"\"\n",
        "    d = np.shape(X)\n",
        "    cost = np.zeros(iter)\n",
        "    \n",
        "   \n",
        "    w = np.random.uniform(-1, 1, d[1])\n",
        "    #Un alternativa è settare in partenza tutti 0:\n",
        "    #w = np.zeros(d[1])\n",
        "    \n",
        "    W = np.zeros((d[1],iter))\n",
        "    for i in range(iter):\n",
        "        W[:,i] = w\n",
        "        w = w-gamma*(LogGradient(X,labels,w,d[0]) + RidgeGradient(w, lam,d[0]))\n",
        "        cost[i] = RidgeLogisticLoss(X,labels,w,lam)\n",
        "    return W,cost "
      ],
      "metadata": {
        "id": "E0Ibx56gMKFc"
      },
      "id": "E0Ibx56gMKFc",
      "execution_count": 22,
      "outputs": []
    },
    {
      "cell_type": "markdown",
      "source": [
        "**Elastic-Net Regression**"
      ],
      "metadata": {
        "id": "yjgNZGE-MXyN"
      },
      "id": "yjgNZGE-MXyN"
    },
    {
      "cell_type": "code",
      "source": [
        "def ElasticLogisticLoss(X,labels,w,lam,alpha):\n",
        "    \"\"\"\n",
        "    Parameters\n",
        "    ----------\n",
        "    X : array of dim n x d\n",
        "        Matrix containing the dataset\n",
        "    y : array of dim n\n",
        "        Vector representing the ground truth label of each data point\n",
        "    w : array of dim d\n",
        "        Vector representing the coefficients of the logistic model\n",
        "    lam : float \n",
        "          Weight of the Elastic-Net penalty\n",
        "    alpha : float\n",
        "            Weight of L1 penalty \n",
        "            \n",
        "    \"\"\"\n",
        "    \n",
        "    n = np.shape(X)[0]\n",
        "    logloss = LogisticLoss(X, labels, w)\n",
        "    penaltyl1 = LA.norm(w,1)/n\n",
        "    penaltyl2 = LA.norm(w,2)/n\n",
        "    cost = logloss + lam*(alpha*penaltyl1 +(1-alpha)*penaltyl2)\n",
        "    return cost\n",
        "\n",
        "def RidgeGradient(w, lam,points):\n",
        "    return ((1/points)*2*lam*w)\n",
        "\n",
        "'''def L1_subgradient(z):\n",
        "    g = np.ones(z.shape)\n",
        "    g[z < 0.] = -1.0\n",
        "    return g\n",
        "\n",
        "def LassoGradient(w, lam,points):\n",
        "    return (1/points)*lam * L1_subgradient(w) '''\n",
        "\n",
        "\n",
        "def ElasticGradient(w, lam,alpha,points):\n",
        "    return alpha*LassoGradient(w,lam,points)+(1-alpha)*RidgeGradient(w,lam,points)\n",
        "\n",
        "def ElasticGDLogistic(X, labels, iter, gamma,lam,alpha):  \n",
        "    \"\"\"\n",
        "    Parameters\n",
        "    ----------\n",
        "    X : array of dim n x d\n",
        "        Matrix containing the dataset\n",
        "    y : array of dim n\n",
        "        Vector representing the ground truth label of each data point\n",
        "    iter : int\n",
        "        Number of GD iterations\n",
        "    gamma : float\n",
        "        Learning rate\n",
        "    lam : float\n",
        "        Weight of the penalty term\n",
        "    alpha : float\n",
        "            Weight of L1 penalty \n",
        "    \"\"\"\n",
        "    d = np.shape(X)\n",
        "    cost = np.zeros(iter)\n",
        "    \n",
        "   \n",
        "    w = np.random.uniform(-1, 1, d[1])\n",
        "    #Un alternativa è settare in partenza tutti 0:\n",
        "    #w = np.zeros(d[1])\n",
        "    \n",
        "    W = np.zeros((d[1],iter))\n",
        "    for i in range(iter):\n",
        "        W[:,i] = w\n",
        "        w = w-gamma*(LogGradient(X,labels,w,d[0]) + ElasticGradient(w, lam, alpha, d[0]))\n",
        "        cost[i] = ElasticLogisticLoss(X,labels,w,lam,alpha)\n",
        "    return W,cost "
      ],
      "metadata": {
        "id": "GPV6l0f-Mbki"
      },
      "id": "GPV6l0f-Mbki",
      "execution_count": 23,
      "outputs": []
    },
    {
      "cell_type": "markdown",
      "source": [
        "**COMMENTO**\n",
        "\n",
        "Nel codice sono implementate la Ridge Regression, la Loss Regression e l'Elastic-Net Regression.\n",
        "Di seguito si commenta solo il codice dell'implementazione dell'Elastic-Net, poi si confronatano i risultati tra tutti e tre i metodi.\n",
        "\n",
        "ELASTIC-NET\n",
        " Dai laboratori precedenti si importano (in questo caso in realtà il codice è stato copiato e incollato) le funzioni \"LogisticLoss()\", \"sigmoidM()\" e la \"LogGradient()\". Queste funzioni costituiscono la \"parte non regolarizzata\" della Loss e del Gradient Descent. \n",
        "A queste funzioni si aggiunge la \"ElasticLogisticLoss()\". Alla Loss calcolata con la funzione \"LogistcLoss()\" somma le penalizzazioni L1 e L2 pesate dai valori \"lam\" e \"alpha\" (con \"alpha\" per L1 e (1-\"alpha\") per l2).\n",
        "Anche le funzioni \"RidgeGradient()\", \"L1_subgradient()\" e \"LassoGradient()\" sono prese dai precedenti laboratori e servono per la costruzione della funzione \"ElasticGradient()\". Si tratta di una modifica della funzione già vista nei laboratori \"GDLogistic()\".\n",
        "\n",
        "Per fissare il numero di iterazioni e lo step del Gradient Descent è utile plottare il grafico della Loss. Ad esempio con uno step di 0.2 dopo circa 2500/3000 iterazioni la curva sembra appiattirsi, mentre con uno step di 0.5 ne bastano circa 1500/2000. Come fissare il parametro alpha fissato un lambda è invece più difficile. La funzione \"classification_report\" della libreria sklearn non evidenzia sostanziali differenze al variare di alpha. Sarebbe utile avere più dati a disposizione nel set di test.\n"
      ],
      "metadata": {
        "id": "sQg2uWntxqYt"
      },
      "id": "sQg2uWntxqYt"
    },
    {
      "cell_type": "markdown",
      "id": "7a05776d",
      "metadata": {
        "id": "7a05776d"
      },
      "source": [
        "***Model assessment***\n",
        "\n",
        "Given true and predicted values, compute the most common classification metrics to assess the quality of your predictions. "
      ]
    },
    {
      "cell_type": "code",
      "execution_count": 24,
      "id": "b3a864f9",
      "metadata": {
        "id": "b3a864f9",
        "colab": {
          "base_uri": "https://localhost:8080/"
        },
        "outputId": "dc9eb7a6-a2fb-46ae-f836-bcb28b1cb238"
      },
      "outputs": [
        {
          "output_type": "stream",
          "name": "stdout",
          "text": [
            "              precision    recall  f1-score   support\n",
            "\n",
            "  California       0.33      1.00      0.50         3\n",
            "     Florida       0.00      0.00      0.00         6\n",
            "\n",
            "    accuracy                           0.33         9\n",
            "   macro avg       0.17      0.50      0.25         9\n",
            "weighted avg       0.11      0.33      0.17         9\n",
            "\n"
          ]
        },
        {
          "output_type": "stream",
          "name": "stderr",
          "text": [
            "/usr/local/lib/python3.7/dist-packages/sklearn/metrics/_classification.py:1318: UndefinedMetricWarning: Precision and F-score are ill-defined and being set to 0.0 in labels with no predicted samples. Use `zero_division` parameter to control this behavior.\n",
            "  _warn_prf(average, modifier, msg_start, len(result))\n",
            "/usr/local/lib/python3.7/dist-packages/sklearn/metrics/_classification.py:1318: UndefinedMetricWarning: Precision and F-score are ill-defined and being set to 0.0 in labels with no predicted samples. Use `zero_division` parameter to control this behavior.\n",
            "  _warn_prf(average, modifier, msg_start, len(result))\n",
            "/usr/local/lib/python3.7/dist-packages/sklearn/metrics/_classification.py:1318: UndefinedMetricWarning: Precision and F-score are ill-defined and being set to 0.0 in labels with no predicted samples. Use `zero_division` parameter to control this behavior.\n",
            "  _warn_prf(average, modifier, msg_start, len(result))\n"
          ]
        }
      ],
      "source": [
        "from sklearn.metrics import classification_report\n",
        "y_true = y_test\n",
        "y_pred = LR.predict(X_test)\n",
        "\n",
        "target_names = ['California', 'Florida']\n",
        "print(classification_report(y_true, y_pred, target_names=target_names))"
      ]
    },
    {
      "cell_type": "markdown",
      "source": [
        "Repeat the previous task for regularized logistic regression and compare the results. "
      ],
      "metadata": {
        "id": "q8gI_LEMJsB-"
      },
      "id": "q8gI_LEMJsB-"
    },
    {
      "cell_type": "markdown",
      "source": [
        "**Lasso Regression**"
      ],
      "metadata": {
        "id": "vmiABRopNSDf"
      },
      "id": "vmiABRopNSDf"
    },
    {
      "cell_type": "code",
      "source": [
        "iterations = 6000\n",
        "gamma = 0.1\n",
        "#gamma = 0.2\n"
      ],
      "metadata": {
        "id": "AWSiwxDUJrZz"
      },
      "id": "AWSiwxDUJrZz",
      "execution_count": 25,
      "outputs": []
    },
    {
      "cell_type": "markdown",
      "source": [
        "Plot to check if iteration and gamma values are good"
      ],
      "metadata": {
        "id": "cTW7i7wYOTWb"
      },
      "id": "cTW7i7wYOTWb"
    },
    {
      "cell_type": "code",
      "source": [
        "w_prova, c_prova = LassoGDLogistic(X_train,y_train,iterations,gamma,0.4)\n",
        "\n",
        "fig,ax = plt.subplots()\n",
        "ax.plot(c_prova,'go',markersize=0.5)\n",
        "fig.show()"
      ],
      "metadata": {
        "colab": {
          "base_uri": "https://localhost:8080/",
          "height": 265
        },
        "id": "BroU4DzaPVgf",
        "outputId": "b8372663-8220-4351-f9cf-834ebe58ab42"
      },
      "id": "BroU4DzaPVgf",
      "execution_count": 26,
      "outputs": [
        {
          "output_type": "display_data",
          "data": {
            "text/plain": [
              "<Figure size 432x288 with 1 Axes>"
            ],
            "image/png": "[encoded data removed]"
          },
          "metadata": {
            "needs_background": "light"
          }
        }
      ]
    },
    {
      "cell_type": "markdown",
      "source": [
        "Test to find best lambda"
      ],
      "metadata": {
        "id": "qKEYUsEdSWcw"
      },
      "id": "qKEYUsEdSWcw"
    },
    {
      "cell_type": "code",
      "source": [
        "from sklearn.metrics import accuracy_score\n",
        "lambdas = np.linspace(0.1,1,10)\n",
        "pred = []\n",
        "for i in lambdas:\n",
        "    w_temp,c_temp = LassoGDLogistic(X_train,y_train,iterations,gamma,i)\n",
        "    pesi = w_temp[:,-1]\n",
        "    valori = sigmoidM(X_test,pesi)\n",
        "    pred.append(np.round(valori))\n",
        "    \n",
        "acc = []\n",
        "for i in range(len(lambdas)):\n",
        "    acc.append(accuracy_score(y_test, pred[i]))\n",
        "\n",
        "fig, ax = plt.subplots()\n",
        "ax.plot(lambdas,acc)\n",
        "plt.xlabel(\"lambda\")\n",
        "plt.ylabel(\"accuracy\")\n",
        "plt.show()"
      ],
      "metadata": {
        "colab": {
          "base_uri": "https://localhost:8080/",
          "height": 279
        },
        "id": "SYKK8lCIOKAS",
        "outputId": "7e3ff9c2-3d55-47ac-d712-acc132527136"
      },
      "id": "SYKK8lCIOKAS",
      "execution_count": 27,
      "outputs": [
        {
          "output_type": "display_data",
          "data": {
            "text/plain": [
              "<Figure size 432x288 with 1 Axes>"
            ],
            "image/png": "[encoded data removed]"
          },
          "metadata": {
            "needs_background": "light"
          }
        }
      ]
    },
    {
      "cell_type": "code",
      "source": [
        "from sklearn.metrics import f1_score\n",
        "f1_scores = []\n",
        "\n",
        "for i in range(len(lambdas)):\n",
        "    temp = f1_score(y_test, pred[i])\n",
        "    f1_scores.append(temp)\n",
        "\n",
        "fig, ax = plt.subplots()\n",
        "ax.plot(lambdas,f1_scores)\n",
        "plt.xlabel(\"lambda\")\n",
        "plt.ylabel(\"f1 score\")\n",
        "plt.show()"
      ],
      "metadata": {
        "colab": {
          "base_uri": "https://localhost:8080/",
          "height": 279
        },
        "id": "XID97KIVX4QN",
        "outputId": "47540cdc-2cc6-41fa-9660-021d72d4b4f3"
      },
      "id": "XID97KIVX4QN",
      "execution_count": 28,
      "outputs": [
        {
          "output_type": "display_data",
          "data": {
            "text/plain": [
              "<Figure size 432x288 with 1 Axes>"
            ],
            "image/png": "[encoded data removed]"
          },
          "metadata": {
            "needs_background": "light"
          }
        }
      ]
    },
    {
      "cell_type": "markdown",
      "source": [
        "Classification Report for lambda = 0.4"
      ],
      "metadata": {
        "id": "ATNI9dwrS-46"
      },
      "id": "ATNI9dwrS-46"
    },
    {
      "cell_type": "code",
      "source": [
        "from sklearn.metrics import classification_report\n",
        "y_true = y_test\n",
        "y_pred = np.round(pred[3])\n",
        "target_names = ['California', 'Florida']\n",
        "print(classification_report(y_true, y_pred, target_names=target_names))"
      ],
      "metadata": {
        "colab": {
          "base_uri": "https://localhost:8080/"
        },
        "id": "ScweLK8aS1D3",
        "outputId": "017aa903-76d5-4637-8c3c-014abe20141e"
      },
      "id": "ScweLK8aS1D3",
      "execution_count": 29,
      "outputs": [
        {
          "output_type": "stream",
          "name": "stdout",
          "text": [
            "              precision    recall  f1-score   support\n",
            "\n",
            "  California       0.38      1.00      0.55         3\n",
            "     Florida       1.00      0.17      0.29         6\n",
            "\n",
            "    accuracy                           0.44         9\n",
            "   macro avg       0.69      0.58      0.42         9\n",
            "weighted avg       0.79      0.44      0.37         9\n",
            "\n"
          ]
        }
      ]
    },
    {
      "cell_type": "markdown",
      "source": [
        "**Ridge Regression**"
      ],
      "metadata": {
        "id": "bTKl7OylW8ku"
      },
      "id": "bTKl7OylW8ku"
    },
    {
      "cell_type": "code",
      "source": [
        "iterations = 2000\n",
        "gamma = 0.05"
      ],
      "metadata": {
        "id": "2fREnEsfW_Ln"
      },
      "id": "2fREnEsfW_Ln",
      "execution_count": 30,
      "outputs": []
    },
    {
      "cell_type": "markdown",
      "source": [
        "Loss Plot"
      ],
      "metadata": {
        "id": "FmquFcUoXQ6k"
      },
      "id": "FmquFcUoXQ6k"
    },
    {
      "cell_type": "code",
      "source": [
        "w_prova,c_prova = RidgeGDLogistic(X_train,y_train,iterations,gamma,0.4)\n",
        "fig, ax = plt.subplots()\n",
        "ax.plot(c_prova, 'go', markersize=0.5)\n",
        "fig.show()"
      ],
      "metadata": {
        "colab": {
          "base_uri": "https://localhost:8080/",
          "height": 265
        },
        "id": "mtzeAkhYXTS0",
        "outputId": "99eee7bf-ff32-4545-85bd-4f5b4203a8f8"
      },
      "id": "mtzeAkhYXTS0",
      "execution_count": 31,
      "outputs": [
        {
          "output_type": "display_data",
          "data": {
            "text/plain": [
              "<Figure size 432x288 with 1 Axes>"
            ],
            "image/png": "[encoded data removed]"
          },
          "metadata": {
            "needs_background": "light"
          }
        }
      ]
    },
    {
      "cell_type": "markdown",
      "source": [
        "Test to find best lambda"
      ],
      "metadata": {
        "id": "pk88GE5wb0FO"
      },
      "id": "pk88GE5wb0FO"
    },
    {
      "cell_type": "code",
      "source": [
        "lambdas = np.linspace(0.1,1,10)\n",
        "pred = []\n",
        "for i in lambdas:\n",
        "    w_temp,c_temp = RidgeGDLogistic(X_train,y_train,iterations,gamma,i)\n",
        "    pesi = w_temp[:,-1]\n",
        "    valori = sigmoidM(X_test,pesi)\n",
        "    pred.append(np.round(valori))\n",
        "    \n",
        "acc = []\n",
        "for i in range(len(lambdas)):\n",
        "    acc.append(accuracy_score(y_test, pred[i]))\n",
        "\n",
        "fig, ax = plt.subplots()\n",
        "ax.plot(lambdas,acc)\n",
        "plt.xlabel(\"lambda\")\n",
        "plt.ylabel(\"accuracy\")\n",
        "plt.show()"
      ],
      "metadata": {
        "colab": {
          "base_uri": "https://localhost:8080/",
          "height": 279
        },
        "id": "4p2JOZnBbzSA",
        "outputId": "f7f2b930-caab-486a-954c-e76ad9e38bdf"
      },
      "id": "4p2JOZnBbzSA",
      "execution_count": 32,
      "outputs": [
        {
          "output_type": "display_data",
          "data": {
            "text/plain": [
              "<Figure size 432x288 with 1 Axes>"
            ],
            "image/png": "[encoded data removed]"
          },
          "metadata": {
            "needs_background": "light"
          }
        }
      ]
    },
    {
      "cell_type": "code",
      "source": [
        "f1_scores = []\n",
        "\n",
        "for i in range(len(lambdas)):\n",
        "    temp = f1_score(y_test, pred[i])\n",
        "    f1_scores.append(temp)\n",
        "\n",
        "fig, ax = plt.subplots()\n",
        "ax.plot(lambdas,f1_scores)\n",
        "plt.xlabel(\"lambda\")\n",
        "plt.ylabel(\"f1 score\")\n",
        "plt.show()"
      ],
      "metadata": {
        "colab": {
          "base_uri": "https://localhost:8080/",
          "height": 279
        },
        "id": "_0xbtb0mcAqb",
        "outputId": "ffa0d367-770d-4bad-aed1-2531f0d45120"
      },
      "id": "_0xbtb0mcAqb",
      "execution_count": 33,
      "outputs": [
        {
          "output_type": "display_data",
          "data": {
            "text/plain": [
              "<Figure size 432x288 with 1 Axes>"
            ],
            "image/png": "[encoded data removed]"
          },
          "metadata": {
            "needs_background": "light"
          }
        }
      ]
    },
    {
      "cell_type": "markdown",
      "source": [
        "Classification Report for lam=0.4"
      ],
      "metadata": {
        "id": "TDmu5DlncNxy"
      },
      "id": "TDmu5DlncNxy"
    },
    {
      "cell_type": "code",
      "source": [
        "y_true = y_test\n",
        "y_pred = np.round(pred[3])\n",
        "target_names = ['California', 'Florida']\n",
        "print(classification_report(y_true, y_pred, target_names=target_names))"
      ],
      "metadata": {
        "colab": {
          "base_uri": "https://localhost:8080/"
        },
        "id": "K98QeXGxcQXJ",
        "outputId": "9432568d-bb47-4f8c-ee71-a49ce1a5eca7"
      },
      "id": "K98QeXGxcQXJ",
      "execution_count": 34,
      "outputs": [
        {
          "output_type": "stream",
          "name": "stdout",
          "text": [
            "              precision    recall  f1-score   support\n",
            "\n",
            "  California       0.38      1.00      0.55         3\n",
            "     Florida       1.00      0.17      0.29         6\n",
            "\n",
            "    accuracy                           0.44         9\n",
            "   macro avg       0.69      0.58      0.42         9\n",
            "weighted avg       0.79      0.44      0.37         9\n",
            "\n"
          ]
        }
      ]
    },
    {
      "cell_type": "markdown",
      "source": [
        "**Elastic-Net Regression**"
      ],
      "metadata": {
        "id": "Gh0xaMVWe_bH"
      },
      "id": "Gh0xaMVWe_bH"
    },
    {
      "cell_type": "code",
      "source": [
        "iterations = 2000\n",
        "gamma = 0.05"
      ],
      "metadata": {
        "id": "Lfp5sq-gfC_X"
      },
      "id": "Lfp5sq-gfC_X",
      "execution_count": 35,
      "outputs": []
    },
    {
      "cell_type": "markdown",
      "source": [
        "Plot Loss"
      ],
      "metadata": {
        "id": "06DEAG2dfH2w"
      },
      "id": "06DEAG2dfH2w"
    },
    {
      "cell_type": "code",
      "source": [
        "w_prova,c_prova = ElasticGDLogistic(X_train,y_train,iterations,gamma,0.4,0.5)\n",
        "fig, ax = plt.subplots()\n",
        "ax.plot(c_prova, 'go', markersize=0.5)\n",
        "fig.show()\n"
      ],
      "metadata": {
        "colab": {
          "base_uri": "https://localhost:8080/",
          "height": 265
        },
        "id": "dBRMetBCfhbG",
        "outputId": "af10cd08-1ce0-4def-e369-c2a0bec0a887"
      },
      "id": "dBRMetBCfhbG",
      "execution_count": 36,
      "outputs": [
        {
          "output_type": "display_data",
          "data": {
            "text/plain": [
              "<Figure size 432x288 with 1 Axes>"
            ],
            "image/png": "[encoded data removed]"
          },
          "metadata": {
            "needs_background": "light"
          }
        }
      ]
    },
    {
      "cell_type": "markdown",
      "source": [
        "Test for alpha value"
      ],
      "metadata": {
        "id": "Lq7YouHNf45J"
      },
      "id": "Lq7YouHNf45J"
    },
    {
      "cell_type": "code",
      "source": [
        "lam = 0.4\n",
        "alphas = np.linspace(0.1,1,10)\n",
        "pred = []\n",
        "for i in lambdas:\n",
        "    w_temp,c_temp = ElasticGDLogistic(X_train,y_train,iterations,gamma,lam,i)\n",
        "    pesi = w_temp[:,-1]\n",
        "    valori = sigmoidM(X_test,pesi)\n",
        "    pred.append(np.round(valori))\n",
        "    \n",
        "acc = []\n",
        "for i in range(len(alphas)):\n",
        "    acc.append(accuracy_score(y_test, pred[i]))\n",
        "\n",
        "fig, ax = plt.subplots()\n",
        "ax.plot(lambdas,acc)\n",
        "plt.xlabel(\"alpha\")\n",
        "plt.ylabel(\"accuracy\")\n",
        "plt.show()"
      ],
      "metadata": {
        "colab": {
          "base_uri": "https://localhost:8080/",
          "height": 279
        },
        "id": "7siG6Rk7f_Rv",
        "outputId": "4d1b8096-5d93-4d37-88d9-d6f13c12038e"
      },
      "id": "7siG6Rk7f_Rv",
      "execution_count": 37,
      "outputs": [
        {
          "output_type": "display_data",
          "data": {
            "text/plain": [
              "<Figure size 432x288 with 1 Axes>"
            ],
            "image/png": "[encoded data removed]"
          },
          "metadata": {
            "needs_background": "light"
          }
        }
      ]
    },
    {
      "cell_type": "code",
      "source": [
        "f1_scores = []\n",
        "\n",
        "for i in range(len(alphas)):\n",
        "    temp = f1_score(y_test, pred[i])\n",
        "    f1_scores.append(temp)\n",
        "\n",
        "fig, ax = plt.subplots()\n",
        "ax.plot(lambdas,f1_scores)\n",
        "plt.xlabel(\"alpha\")\n",
        "plt.ylabel(\"f1 score\")\n",
        "plt.show()"
      ],
      "metadata": {
        "colab": {
          "base_uri": "https://localhost:8080/",
          "height": 283
        },
        "id": "147OkLmYgh_6",
        "outputId": "05feeffb-8e4f-44f8-a122-487f037dcd15"
      },
      "id": "147OkLmYgh_6",
      "execution_count": 38,
      "outputs": [
        {
          "output_type": "display_data",
          "data": {
            "text/plain": [
              "<Figure size 432x288 with 1 Axes>"
            ],
            "image/png": "[encoded data removed]"
          },
          "metadata": {
            "needs_background": "light"
          }
        }
      ]
    },
    {
      "cell_type": "markdown",
      "source": [
        "Classification Report for lambda = 0.4, alpha = 0.5"
      ],
      "metadata": {
        "id": "ZAyN6fCRg9Yj"
      },
      "id": "ZAyN6fCRg9Yj"
    },
    {
      "cell_type": "code",
      "source": [
        "y_true = y_test\n",
        "y_pred = np.round(pred[4])\n",
        "target_names = ['California', 'Florida']\n",
        "print(classification_report(y_true, y_pred, target_names=target_names))"
      ],
      "metadata": {
        "colab": {
          "base_uri": "https://localhost:8080/"
        },
        "id": "c8PRo2nghEgo",
        "outputId": "44824d37-04e8-44fe-99cf-9ac3924376eb"
      },
      "id": "c8PRo2nghEgo",
      "execution_count": 39,
      "outputs": [
        {
          "output_type": "stream",
          "name": "stdout",
          "text": [
            "              precision    recall  f1-score   support\n",
            "\n",
            "  California       0.38      1.00      0.55         3\n",
            "     Florida       1.00      0.17      0.29         6\n",
            "\n",
            "    accuracy                           0.44         9\n",
            "   macro avg       0.69      0.58      0.42         9\n",
            "weighted avg       0.79      0.44      0.37         9\n",
            "\n"
          ]
        }
      ]
    },
    {
      "cell_type": "markdown",
      "source": [
        "CONFRONTO TRA MODELLI\n",
        "\n",
        "Occorre chiedersi tra i modelli quale sia il migliore. \n",
        "Bisogna comunque rendersi conto che non è facile ottenere risultati veramente soddisfacenti. Il training set conta solo di 24 dati, e con questi dobbiamo prevedere se un'azienda si trova in California o in Florida sulla base di 4 variabili.\n",
        "\n",
        "LASSO REGRESSION\n",
        "\n",
        "Importando la funzione \"accuracy_score()\" sempre da sklearn si può plottare l'accuracy in funzione del peso lambda per valori compresi tra 0 e 1. L'accuracy si mantiene su 0.33 per tutti i valori testati tranne che lam=0.4, dove viene predetta in maniera corretta una etichetta in più. Il fatto che l'accuracy incrementi di 11 punti percentuali non certifica che 0.4 sia il migliore valore per lambda(se ci fossero più dati di test a disposizione questa percentuale probabilmente si ridurrebbe), ma per i dati in possesso sembra una valida scelta. Anche lo score f1 conferma che sia una buona scelta, anche se non la migliore.\n",
        "\n",
        "Da notare che se si pone gamma = 0.2 anche per lamda = 1 si ottiene un'accuracy di 0.44. Dunque in questo modello anche una piccola variazione nello step-size del Gradient Descent comporta variazioni significative nei risultati.\n",
        "\n",
        "RIDGE REGRESSION\n",
        "\n",
        " I migliori risultati si ottengono per lambda compreso tra 0.4 e 0.7, dove l'accuracy raggiunge 0.44. Anche con \"f1_score()\" i valori di lambda tra 0.4 e 0.7 si riconfermano buoni, ma questa volta non i migliori: per lambda = 0.1 si raggiunge il valore 0.4. \n",
        "\n",
        "Ancora una volta un valore di gamma troppo grande e/o un numero di iterazioni troppo basso restituiscono pesi non corretti e quindi influenzano anche i test sull'accuracy e il Classification Report. In questo caso non essendo il programma molto complesso ci si possono permettere migliaia di iterazioni senza grossi costi computazionali e con un buon livello di precisione grazie ad un gamma di 0.05 .\n",
        "\n",
        "ELASTIC-NET REGRESSION\n",
        "\n",
        "In questo caso bisogna fissare due parametri invece che uno solo. L'idea è di fissare lamda = 0.4, che si è dimostrato un buon valore sia per la Lasso che per la Ridge, e far variare alpha. \n",
        "Per alpha minore di 0.8 si producono risultati con stessi accuracy e f1 score. Nel Classification Report si prende il valore 0.5.\n",
        "\n",
        "IN CONCLUSIONE\n",
        "\n",
        "Tra i modelli considerati non ce n'è uno veramente migliore degli altri. In genere la norma L1 si usa per ridurre il numero di variabili del modello, altrimenti è comunemente implementata la norma L2 (ad esempio in sklearn è implementata di default nella Logistic Regression). L'Elastic-Net è un compromesso tra le due, ma in questo caso non si ottengono risultati migliori. "
      ],
      "metadata": {
        "id": "A3R93iUsx18h"
      },
      "id": "A3R93iUsx18h"
    },
    {
      "cell_type": "markdown",
      "id": "d208a7b9",
      "metadata": {
        "id": "d208a7b9"
      },
      "source": [
        "***ROC curve***\n",
        "\n",
        "Implement a function for producing the Receiver Operating Characteristic (ROC) curve.\n",
        "\n",
        "Given true and predicted values, plot the ROC curve using your implemented function."
      ]
    },
    {
      "cell_type": "markdown",
      "source": [],
      "metadata": {
        "id": "ip_gXzJPXb1L"
      },
      "id": "ip_gXzJPXb1L"
    },
    {
      "cell_type": "code",
      "execution_count": 40,
      "id": "944188f5",
      "metadata": {
        "id": "944188f5"
      },
      "outputs": [],
      "source": [
        "def rates(y_true,y_predicted):\n",
        "    \n",
        "    if len(y_true) != len(y_predicted):\n",
        "        raise Exception(\"y_true and y_predicted have different size\")\n",
        "        \n",
        "    #tp : true positive\n",
        "    #fp : false positive\n",
        "    #p : positive\n",
        "    #n : negative\n",
        "    #tpr : true positive rate\n",
        "    #fpr : false positive rate\n",
        "    \n",
        "    \n",
        "    tp = 0\n",
        "    fp = 0\n",
        "    p = 0\n",
        "    \n",
        "    for i in range(len(y_true)):\n",
        "        if y_true[i] == 1:\n",
        "            p += 1\n",
        "            if y_predicted[i]==y_true[i]:\n",
        "                tp +=1\n",
        "                \n",
        "        else:\n",
        "            \n",
        "            if y_predicted[i]==1:\n",
        "                fp += 1\n",
        "                \n",
        "            \n",
        "    n = len(y_true)-p\n",
        "\n",
        "    tpr = tp/p\n",
        "    fpr  =fp/n\n",
        "    \n",
        "    return tpr,fpr"
      ]
    },
    {
      "cell_type": "code",
      "source": [
        "'''\n",
        "    y: score of the model\n",
        "    n: numbers of thresholds\n",
        "    l: lower bound of thresholds\n",
        "    u: upperbound of thresholds\n",
        "'''\n",
        "\n",
        "def threshold_pred(y,n=100000,l=0,u=1):\n",
        "    threshold = np.linspace(l,u,n)\n",
        "    results = []\n",
        "    size = len(y)\n",
        "    \n",
        "    for i in threshold:\n",
        "        y_temp = np.zeros(size)\n",
        "        for j in range(size):\n",
        "            if y[j]<i :\n",
        "                y_temp[j]=0\n",
        "                \n",
        "            else :\n",
        "                y_temp[j]=1\n",
        "        \n",
        "        results.append(y_temp)\n",
        "    return results"
      ],
      "metadata": {
        "id": "wSFe_FWbpWXy"
      },
      "id": "wSFe_FWbpWXy",
      "execution_count": 41,
      "outputs": []
    },
    {
      "cell_type": "code",
      "source": [
        "'''\n",
        "    vector : output od threshold_pred\n",
        "    y_true : array of labels\n",
        "'''\n",
        "def tpr_fpr(vector,y_true):\n",
        "    \n",
        "    tpr_list = []\n",
        "    fpr_list=[]\n",
        "    for i in range(len(vector)):\n",
        "        tpr,fpr = rates(y_true,vector[i])\n",
        "        \n",
        "        tpr_list.append(tpr)\n",
        "        fpr_list.append(fpr)\n",
        "    return tpr_list, fpr_list"
      ],
      "metadata": {
        "id": "xe9aew-xpYz0"
      },
      "id": "xe9aew-xpYz0",
      "execution_count": 42,
      "outputs": []
    },
    {
      "cell_type": "markdown",
      "source": [
        "**ROC function**"
      ],
      "metadata": {
        "id": "L7IfbQDDpbKz"
      },
      "id": "L7IfbQDDpbKz"
    },
    {
      "cell_type": "code",
      "source": [
        "def ROC_curve(score,y_true, n = 100000,l = 0,u=1):\n",
        "    values = threshold_pred(score,n,l,u)\n",
        "    tpr_list,fpr_list = tpr_fpr(values,y_true)\n",
        "    plt.plot(fpr_list,tpr_list)"
      ],
      "metadata": {
        "id": "pmBxVqF-pf08"
      },
      "id": "pmBxVqF-pf08",
      "execution_count": 43,
      "outputs": []
    },
    {
      "cell_type": "markdown",
      "source": [
        "test "
      ],
      "metadata": {
        "id": "Y2U6xbwDplXK"
      },
      "id": "Y2U6xbwDplXK"
    },
    {
      "cell_type": "code",
      "source": [
        "w_test,c_test = LassoGDLogistic(X_train,y_train,5000,0.1,0.5)\n",
        "pesi_test = w_test[:,-1]\n",
        "previsioni_test = sigmoidM(X_test,pesi_test)\n",
        "previsioni_test\n"
      ],
      "metadata": {
        "colab": {
          "base_uri": "https://localhost:8080/"
        },
        "id": "6oflUzcOpk2H",
        "outputId": "1ce0779f-a376-4297-b233-cf3a034a0ded"
      },
      "id": "6oflUzcOpk2H",
      "execution_count": 44,
      "outputs": [
        {
          "output_type": "execute_result",
          "data": {
            "text/plain": [
              "array([0.46180279, 0.49322124, 0.4715257 , 0.48053415, 0.44728128,\n",
              "       0.47467443, 0.47495884, 0.47996252, 0.46293392])"
            ]
          },
          "metadata": {},
          "execution_count": 44
        }
      ]
    },
    {
      "cell_type": "markdown",
      "source": [
        "sklearn implementation"
      ],
      "metadata": {
        "id": "MxMFuUUHqe7_"
      },
      "id": "MxMFuUUHqe7_"
    },
    {
      "cell_type": "code",
      "source": [
        "from sklearn import metrics\n",
        "fpr_sk, tpr_sk, thresholds_sk = metrics.roc_curve(y_true,previsioni_test)\n",
        "plt.plot(fpr_sk,tpr_sk)"
      ],
      "metadata": {
        "colab": {
          "base_uri": "https://localhost:8080/",
          "height": 282
        },
        "id": "jFw-lExTpix_",
        "outputId": "db21b9b3-a296-4f44-e409-f40b618a1c50"
      },
      "id": "jFw-lExTpix_",
      "execution_count": 45,
      "outputs": [
        {
          "output_type": "execute_result",
          "data": {
            "text/plain": [
              "[<matplotlib.lines.Line2D at 0x7f44cb585d90>]"
            ]
          },
          "metadata": {},
          "execution_count": 45
        },
        {
          "output_type": "display_data",
          "data": {
            "text/plain": [
              "<Figure size 432x288 with 1 Axes>"
            ],
            "image/png": "[encoded data removed]"
          },
          "metadata": {
            "needs_background": "light"
          }
        }
      ]
    },
    {
      "cell_type": "markdown",
      "source": [
        "My implementation"
      ],
      "metadata": {
        "id": "eR3JmWWDq4Jl"
      },
      "id": "eR3JmWWDq4Jl"
    },
    {
      "cell_type": "code",
      "source": [
        "ROC_curve(previsioni_test, y_true)"
      ],
      "metadata": {
        "colab": {
          "base_uri": "https://localhost:8080/",
          "height": 265
        },
        "id": "-8jf1nCtqyne",
        "outputId": "a79070c9-6e3e-4112-de52-83bc87c29b24"
      },
      "id": "-8jf1nCtqyne",
      "execution_count": 46,
      "outputs": [
        {
          "output_type": "display_data",
          "data": {
            "text/plain": [
              "<Figure size 432x288 with 1 Axes>"
            ],
            "image/png": "[encoded data removed]"
          },
          "metadata": {
            "needs_background": "light"
          }
        }
      ]
    },
    {
      "cell_type": "markdown",
      "source": [
        "**COMMENTI**\n",
        "\n",
        "-rates()\n",
        "\n",
        "La funzione rates calcola i true positive rates e i false positive rates.\n",
        "Prende in input il vettore con le etichette e il vettore con i valori predetti.\n",
        "Vengono inizializzati 3 contatori: tp per i true positive, fp per i false positive e p per i positive.\n",
        "Si itera un ciclo for sugli elementi del vettore delle etichette \"y_true\": se l'etichetta è 1 allora si aggiorna il contatore p e , nel caso anche la predizione sia 1 si aggiorna anche il contatore tp; se l'etichetta è falsa e il valore predetto è vero si aggiorna il contatore tp.\n",
        "Ora si hanno tutti i valori necessari per calcolare il true positive rate e il false positive rate.\n",
        "\n",
        "-threshold_pred()\n",
        "\n",
        "La funzione prende in input il vettore y che a sua volta sarà l'output della funzione sigmoide sui pesi calcolati con la regressione logistica (score). Il numero di threshold, il loro lower-bound e upper-bound sono settati di default. Con un n inferiore, ad esempio 1000, potrebbe non venire un grafico corretto. Inoltre se i valori score sono entro un intervallo ristretto conviene settare l e u di conseguenza così da poter ridurre anche n. \n",
        "La funzione è molto semplice: itera sui valori che assume il threshold e volta per volta azzera i valori dello score che sono minori e rende 1 quelli che sono maggiori.\n",
        "Si ottengono come risultato n vettori.\n",
        "\n",
        "-tpr_fpr()\n",
        "\n",
        "Prende in input il vettore di n vettori ottenuto con la funzione precedente e le etichette.\n",
        "Per ciascuno degli n vettori calcola con la funzione \"rates()\" il true positive rate e il false positive rate.\n",
        "Ritorna dunque due array : nel primo tutti i true positive rate e nel secondo i false positive rate.\n",
        "\n",
        "-ROC_curve()\n",
        "\n",
        "Plotta i valori che si ottengono con la funzione precedente\n",
        "\n"
      ],
      "metadata": {
        "id": "zKEuAtkDyEkO"
      },
      "id": "zKEuAtkDyEkO"
    }
  ],
  "metadata": {
    "kernelspec": {
      "display_name": "Python 3",
      "language": "python",
      "name": "python3"
    },
    "language_info": {
      "codemirror_mode": {
        "name": "ipython",
        "version": 3
      },
      "file_extension": ".py",
      "mimetype": "text/x-python",
      "name": "python",
      "nbconvert_exporter": "python",
      "pygments_lexer": "ipython3",
      "version": "3.7.10"
    },
    "colab": {
      "provenance": []
    }
  },
  "nbformat": 4,
  "nbformat_minor": 5
}
